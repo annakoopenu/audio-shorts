{
  "nbformat": 4,
  "nbformat_minor": 0,
  "metadata": {
    "colab": {
      "provenance": []
    },
    "kernelspec": {
      "name": "python3",
      "display_name": "Python 3"
    },
    "language_info": {
      "name": "python"
    }
  },
  "cells": [
    {
      "cell_type": "markdown",
      "source": [
        "This notebook provides a\n",
        " for Statistical Project about audio files ...\n",
        "\n",
        "more information can be found in the [project report](https://docs.google.com/document/d/1hukc4z_YgyTRf_UpW3CJ8bwUR0I4uE3S_w8ISixJkw4/edit?usp=sharing\n",
        ")\n",
        "\n",
        "\n",
        "Here, after uploaded 32 files, 16 containing question, marked by 'A' , and 'B' non-question.\n"
      ],
      "metadata": {
        "id": "_mm9JSN1jHit"
      }
    },
    {
      "cell_type": "code",
      "source": [
        "print('Hehe ho ha')"
      ],
      "metadata": {
        "colab": {
          "base_uri": "https://localhost:8080/"
        },
        "id": "u6rlhceTc-kI",
        "outputId": "66c82059-a88d-460a-a17e-74b85b054d26"
      },
      "execution_count": 55,
      "outputs": [
        {
          "output_type": "stream",
          "name": "stdout",
          "text": [
            "Hehe ho ha\n"
          ]
        }
      ]
    },
    {
      "cell_type": "code",
      "source": [],
      "metadata": {
        "id": "ctYQd3vbHd7h"
      },
      "execution_count": 55,
      "outputs": []
    },
    {
      "cell_type": "code",
      "source": [
        "!pip install gitpython pydub\n"
      ],
      "metadata": {
        "colab": {
          "base_uri": "https://localhost:8080/"
        },
        "id": "1gzayRrrYOBb",
        "outputId": "1197485a-eb66-4754-822d-8abf8f8f8567"
      },
      "execution_count": 56,
      "outputs": [
        {
          "output_type": "stream",
          "name": "stdout",
          "text": [
            "Requirement already satisfied: gitpython in /usr/local/lib/python3.10/dist-packages (3.1.43)\n",
            "Requirement already satisfied: pydub in /usr/local/lib/python3.10/dist-packages (0.25.1)\n",
            "Requirement already satisfied: gitdb<5,>=4.0.1 in /usr/local/lib/python3.10/dist-packages (from gitpython) (4.0.11)\n",
            "Requirement already satisfied: smmap<6,>=3.0.1 in /usr/local/lib/python3.10/dist-packages (from gitdb<5,>=4.0.1->gitpython) (5.0.1)\n"
          ]
        }
      ]
    },
    {
      "cell_type": "code",
      "source": [
        "from git import Repo\n",
        "import os\n",
        "\n",
        "# Clone the repository\n",
        "repo_url = 'https://github.com/annakoopenu/audio-shorts.git'\n",
        "repo_path = 'content/audio-shorts'\n",
        "\n",
        "\n",
        "# Delete the existing directory\n",
        "os.system(\"rm -rf \" + repo_path)\n",
        "\n",
        "# Clone the repository\n",
        "repo = Repo.clone_from(repo_url, repo_path)\n"
      ],
      "metadata": {
        "id": "_b_t8fDgYLPx"
      },
      "execution_count": 57,
      "outputs": []
    },
    {
      "cell_type": "code",
      "source": [
        "ls"
      ],
      "metadata": {
        "colab": {
          "base_uri": "https://localhost:8080/"
        },
        "id": "isGXP5VsWstC",
        "outputId": "4fb7ade6-f039-4c95-ee8d-9070da332124"
      },
      "execution_count": 58,
      "outputs": [
        {
          "output_type": "stream",
          "name": "stdout",
          "text": [
            "cnn_model.h5  \u001b[0m\u001b[01;34mcontent\u001b[0m/  random_forest_model.pkl  \u001b[01;34msample_data\u001b[0m/\n"
          ]
        }
      ]
    },
    {
      "cell_type": "code",
      "source": [
        "from pydub import AudioSegment\n",
        "\n",
        "# Path to the directory containing the .wav files\n",
        "audio_dir = os.path.join(repo_path, 'Telefon_59_parts')\n",
        "\n",
        "# List to store audio data\n",
        "audio_files = []\n",
        "\n",
        "# Read all .wav files in the directory\n",
        "for file_name in os.listdir(audio_dir):\n",
        "    if file_name.endswith('.wav'):\n",
        "        file_path = os.path.join(audio_dir, file_name)\n",
        "        audio = AudioSegment.from_wav(file_path)\n",
        "        audio_files.append(audio)\n",
        "\n",
        "# Print the number of audio files loaded\n",
        "print(f\"Loaded {len(audio_files)} audio files.\")\n"
      ],
      "metadata": {
        "colab": {
          "base_uri": "https://localhost:8080/"
        },
        "id": "djC7N1RBX8iY",
        "outputId": "665a1587-113a-4501-92a4-70451483f0d4"
      },
      "execution_count": 59,
      "outputs": [
        {
          "output_type": "stream",
          "name": "stdout",
          "text": [
            "Loaded 59 audio files.\n"
          ]
        }
      ]
    },
    {
      "cell_type": "code",
      "source": [
        "# Path to the directory containing the .wav files\n",
        "audio_dir = os.path.join(repo_path, 'Aibolit_33_parts')\n",
        "\n",
        "# List to store audio data\n",
        "audio_files = []\n",
        "\n",
        "# Read all .wav files in the directory\n",
        "for file_name in os.listdir(audio_dir):\n",
        "    if file_name.endswith('.wav'):\n",
        "        #print(file_name)\n",
        "        file_path = os.path.join(audio_dir, file_name)\n",
        "        audio = AudioSegment.from_wav(file_path)\n",
        "        audio_files.append(audio)\n",
        "\n",
        "# Print the number of audio files loaded\n",
        "print(f\"Loaded {len(audio_files)} audio files.\")\n"
      ],
      "metadata": {
        "colab": {
          "base_uri": "https://localhost:8080/"
        },
        "id": "k0mE7A5ooEBK",
        "outputId": "166a00ce-5b3d-4287-e457-3d7e8277f1f1"
      },
      "execution_count": 60,
      "outputs": [
        {
          "output_type": "stream",
          "name": "stdout",
          "text": [
            "Loaded 33 audio files.\n"
          ]
        }
      ]
    },
    {
      "cell_type": "code",
      "source": [
        "ls content/audio-shorts/"
      ],
      "metadata": {
        "colab": {
          "base_uri": "https://localhost:8080/"
        },
        "id": "8wfmUzvNP8c5",
        "outputId": "d50e707b-a277-470d-ad36-571514751a80"
      },
      "execution_count": 61,
      "outputs": [
        {
          "output_type": "stream",
          "name": "stdout",
          "text": [
            "\u001b[0m\u001b[01;34mAibolit_33_parts\u001b[0m/  \u001b[01;34maudio-files\u001b[0m/  audio_files.json  README.md  \u001b[01;34mTelefon_59_parts\u001b[0m/\n"
          ]
        }
      ]
    },
    {
      "cell_type": "code",
      "source": [
        "ls content/audio-shorts/Aibolit_33_parts"
      ],
      "metadata": {
        "colab": {
          "base_uri": "https://localhost:8080/"
        },
        "id": "oH0uNkzYXM3r",
        "outputId": "da2b8831-af0a-4584-87b6-1915a066e1bc"
      },
      "execution_count": 62,
      "outputs": [
        {
          "output_type": "stream",
          "name": "stdout",
          "text": [
            "aibolit_01_B.wav  aibolit_08_B.wav  aibolit_15_A.wav  aibolit_22_B.wav  aibolit_29_B.wav\n",
            "aibolit_02_B.wav  aibolit_09_A.wav  aibolit_16_B.wav  aibolit_23_A.wav  aibolit_30_B.wav\n",
            "aibolit_03_B.wav  aibolit_10_B.wav  aibolit_17_B.wav  aibolit_24_B.wav  aibolit_31_B.wav\n",
            "aibolit_04_B.wav  aibolit_11_B.wav  aibolit_18_A.wav  aibolit_25_A.wav  aibolit_32_B.wav\n",
            "aibolit_05_B.wav  aibolit_12_B.wav  aibolit_19_B.wav  aibolit_26_B.wav  aibolit_33_B.wav\n",
            "aibolit_06_B.wav  aibolit_13_B.wav  aibolit_20_B.wav  aibolit_27_A.wav  aibolit_orig.info_\n",
            "aibolit_07_A.wav  aibolit_14_B.wav  aibolit_21_B.wav  aibolit_28_B.wav\n"
          ]
        }
      ]
    },
    {
      "cell_type": "code",
      "source": [
        "ls content/audio-shorts/Telefon_59_parts"
      ],
      "metadata": {
        "colab": {
          "base_uri": "https://localhost:8080/"
        },
        "id": "3I6oCFe5XW0k",
        "outputId": "5f31d8b2-ddf8-435b-ae1d-bb58208cd392"
      },
      "execution_count": 63,
      "outputs": [
        {
          "output_type": "stream",
          "name": "stdout",
          "text": [
            "10A.wav  16A.wav  21B.wav  27B.wav  32A.wav  38B.wav  43B.wav  49A.wav  54A.wav  5B.wav\n",
            "11B.wav  17B.wav  22B.wav  28B.wav  33B.wav  39A.wav  44B.wav  4A.wav   55B.wav  6A.wav\n",
            "12B.wav  18B.wav  23B.wav  29B.wav  34B.wav  3B.wav   45A.wav  50B.wav  56B.wav  7B.wav\n",
            "13A.wav  19B.wav  24B.wav  2A.wav   35B.wav  40B.wav  46B.wav  51A.wav  57B.wav  8A.wav\n",
            "14B.wav  1B.wav   25B.wav  30B.wav  36A.wav  41B.wav  47A.wav  52B.wav  58B.wav  9B.wav\n",
            "15B.wav  20B.wav  26B.wav  31B.wav  37B.wav  42A.wav  48B.wav  53B.wav  59B.wav\n"
          ]
        }
      ]
    },
    {
      "cell_type": "markdown",
      "source": [
        "#SOS SOS SOS"
      ],
      "metadata": {
        "id": "7Z_txJQpSfFU"
      }
    },
    {
      "cell_type": "code",
      "source": [
        "#fdir = 'content/audio-shorts/Aibolit_33_parts'\n",
        "fdir = 'content/audio-shorts/Telefon_59_parts'"
      ],
      "metadata": {
        "id": "CanUl4vuXhzm"
      },
      "execution_count": 64,
      "outputs": []
    },
    {
      "cell_type": "code",
      "source": [
        "import re\n",
        "\n",
        "# List all WAV files in the directory\n",
        "files = [f for f in os.listdir(fdir) if f.endswith('.wav')]\n",
        "\n",
        "# Function to parse file names and extract ID and category\n",
        "def parse_filename(filename):\n",
        "    # Using regex to extract the part of the filename before 'A' or 'B'\n",
        "    match = re.match(r\"(\\d+)([A-Z])\\.wav\", filename)\n",
        "    if match:\n",
        "        # Return a tuple of ID (as integer) and category\n",
        "        return (int(match.group(1)), match.group(2))\n",
        "    else:\n",
        "        return None\n",
        "\n",
        "# Create a list of tuples from the filenames\n",
        "file_info = [parse_filename(file) for file in files if parse_filename(file)]\n",
        "\n",
        "print(file_info)\n"
      ],
      "metadata": {
        "colab": {
          "base_uri": "https://localhost:8080/"
        },
        "id": "F06E-h4ER_KG",
        "outputId": "3b612109-6468-42e9-abde-369213e19da5"
      },
      "execution_count": 65,
      "outputs": [
        {
          "output_type": "stream",
          "name": "stdout",
          "text": [
            "[(4, 'A'), (16, 'A'), (42, 'A'), (12, 'B'), (20, 'B'), (35, 'B'), (3, 'B'), (59, 'B'), (27, 'B'), (1, 'B'), (22, 'B'), (10, 'A'), (41, 'B'), (23, 'B'), (21, 'B'), (5, 'B'), (57, 'B'), (47, 'A'), (9, 'B'), (2, 'A'), (46, 'B'), (26, 'B'), (29, 'B'), (44, 'B'), (48, 'B'), (56, 'B'), (18, 'B'), (43, 'B'), (58, 'B'), (17, 'B'), (55, 'B'), (7, 'B'), (11, 'B'), (37, 'B'), (54, 'A'), (6, 'A'), (28, 'B'), (24, 'B'), (38, 'B'), (25, 'B'), (13, 'A'), (14, 'B'), (45, 'A'), (33, 'B'), (32, 'A'), (39, 'A'), (52, 'B'), (40, 'B'), (31, 'B'), (50, 'B'), (36, 'A'), (8, 'A'), (30, 'B'), (34, 'B'), (15, 'B'), (51, 'A'), (49, 'A'), (19, 'B'), (53, 'B')]\n"
          ]
        }
      ]
    },
    {
      "cell_type": "code",
      "source": [],
      "metadata": {
        "id": "IJx-EeaaPSJW"
      },
      "execution_count": 65,
      "outputs": []
    },
    {
      "cell_type": "code",
      "source": [
        "# Sort the list by the first element of each tuple\n",
        "audio_parts_list = sorted(file_info, key=lambda x: x[0])\n",
        "\n",
        "# Print the sorted list\n",
        "print(audio_parts_list)"
      ],
      "metadata": {
        "colab": {
          "base_uri": "https://localhost:8080/"
        },
        "id": "3nfZQbjALcEv",
        "outputId": "37cc53a0-3380-4d19-9ca2-6e54f6e94a3c"
      },
      "execution_count": 66,
      "outputs": [
        {
          "output_type": "stream",
          "name": "stdout",
          "text": [
            "[(1, 'B'), (2, 'A'), (3, 'B'), (4, 'A'), (5, 'B'), (6, 'A'), (7, 'B'), (8, 'A'), (9, 'B'), (10, 'A'), (11, 'B'), (12, 'B'), (13, 'A'), (14, 'B'), (15, 'B'), (16, 'A'), (17, 'B'), (18, 'B'), (19, 'B'), (20, 'B'), (21, 'B'), (22, 'B'), (23, 'B'), (24, 'B'), (25, 'B'), (26, 'B'), (27, 'B'), (28, 'B'), (29, 'B'), (30, 'B'), (31, 'B'), (32, 'A'), (33, 'B'), (34, 'B'), (35, 'B'), (36, 'A'), (37, 'B'), (38, 'B'), (39, 'A'), (40, 'B'), (41, 'B'), (42, 'A'), (43, 'B'), (44, 'B'), (45, 'A'), (46, 'B'), (47, 'A'), (48, 'B'), (49, 'A'), (50, 'B'), (51, 'A'), (52, 'B'), (53, 'B'), (54, 'A'), (55, 'B'), (56, 'B'), (57, 'B'), (58, 'B'), (59, 'B')]\n"
          ]
        }
      ]
    },
    {
      "cell_type": "code",
      "source": [
        "from collections import Counter\n",
        "\n",
        "# Assuming file_info is already defined and filled with tuples like (ID, 'A') or (ID, 'B')\n",
        "# Count occurrences of each category\n",
        "category_counts = Counter(category for _, category in audio_parts_list)\n",
        "\n",
        "# Print the counts for each category\n",
        "print(\"Count of files in category 'A' (questions):\", category_counts['A'])\n",
        "print(\"Count of files in category 'B':(answers or else)\", category_counts['B'])\n"
      ],
      "metadata": {
        "colab": {
          "base_uri": "https://localhost:8080/"
        },
        "id": "tqxdochiS2MJ",
        "outputId": "78737a1b-e23e-463e-9f9b-f4ac0956ff14"
      },
      "execution_count": 67,
      "outputs": [
        {
          "output_type": "stream",
          "name": "stdout",
          "text": [
            "Count of files in category 'A' (questions): 16\n",
            "Count of files in category 'B':(answers or else) 43\n"
          ]
        }
      ]
    },
    {
      "cell_type": "code",
      "source": [
        "ls\n"
      ],
      "metadata": {
        "colab": {
          "base_uri": "https://localhost:8080/"
        },
        "id": "wJj8A9g-p22D",
        "outputId": "dd96656d-d1b7-481b-bda2-ff9005a3c289"
      },
      "execution_count": 68,
      "outputs": [
        {
          "output_type": "stream",
          "name": "stdout",
          "text": [
            "cnn_model.h5  \u001b[0m\u001b[01;34mcontent\u001b[0m/  random_forest_model.pkl  \u001b[01;34msample_data\u001b[0m/\n"
          ]
        }
      ]
    },
    {
      "cell_type": "code",
      "source": [
        "import os\n",
        "import librosa\n",
        "import librosa.display\n",
        "import matplotlib.pyplot as plt\n",
        "import numpy as np\n",
        "\n",
        "directory = 'content/audio-shorts/Telefon_59_parts/'"
      ],
      "metadata": {
        "id": "hDw7vEssRZYD"
      },
      "execution_count": 69,
      "outputs": []
    },
    {
      "cell_type": "code",
      "source": [
        "# Filter\n",
        "files_a = [f\"{id}A.wav\" for id, cat in file_info if cat == 'A']\n",
        "files_b = [f\"{id}B.wav\" for id, cat in file_info if cat == 'B']\n",
        "\n",
        "#files_a_sorted = sorted(files_a, key=lambda x: x[0])\n",
        "\n",
        "a_groups = [files_a[i:i+3] for i in range(0, len(files_a), 4)]\n",
        "b_groups = [files_b[i:i+3] for i in range(0, len(files_b), 4)]"
      ],
      "metadata": {
        "id": "jcX4nkB6u6Nk"
      },
      "execution_count": 70,
      "outputs": []
    },
    {
      "cell_type": "code",
      "source": [
        "a_groups"
      ],
      "metadata": {
        "colab": {
          "base_uri": "https://localhost:8080/"
        },
        "id": "QgaaKnpou9eQ",
        "outputId": "dc8a95d7-a209-4baf-8726-2d3fbd6b7fea"
      },
      "execution_count": 71,
      "outputs": [
        {
          "output_type": "execute_result",
          "data": {
            "text/plain": [
              "[['4A.wav', '16A.wav', '42A.wav'],\n",
              " ['47A.wav', '2A.wav', '54A.wav'],\n",
              " ['13A.wav', '45A.wav', '32A.wav'],\n",
              " ['36A.wav', '8A.wav', '51A.wav']]"
            ]
          },
          "metadata": {},
          "execution_count": 71
        }
      ]
    },
    {
      "cell_type": "code",
      "source": [
        "b_groups"
      ],
      "metadata": {
        "colab": {
          "base_uri": "https://localhost:8080/"
        },
        "id": "aQ3W7QQ3v817",
        "outputId": "191bbff4-5784-41aa-da66-c3552d08eadc"
      },
      "execution_count": 72,
      "outputs": [
        {
          "output_type": "execute_result",
          "data": {
            "text/plain": [
              "[['12B.wav', '20B.wav', '35B.wav'],\n",
              " ['59B.wav', '27B.wav', '1B.wav'],\n",
              " ['41B.wav', '23B.wav', '21B.wav'],\n",
              " ['57B.wav', '9B.wav', '46B.wav'],\n",
              " ['29B.wav', '44B.wav', '48B.wav'],\n",
              " ['18B.wav', '43B.wav', '58B.wav'],\n",
              " ['55B.wav', '7B.wav', '11B.wav'],\n",
              " ['28B.wav', '24B.wav', '38B.wav'],\n",
              " ['14B.wav', '33B.wav', '52B.wav'],\n",
              " ['31B.wav', '50B.wav', '30B.wav'],\n",
              " ['15B.wav', '19B.wav', '53B.wav']]"
            ]
          },
          "metadata": {},
          "execution_count": 72
        }
      ]
    },
    {
      "cell_type": "code",
      "source": [],
      "metadata": {
        "id": "obM9qwYeUPyV"
      },
      "execution_count": 72,
      "outputs": []
    },
    {
      "cell_type": "markdown",
      "source": [
        "<hr>\n",
        "\n"
      ],
      "metadata": {
        "id": "tVnqng2fBUFW"
      }
    },
    {
      "cell_type": "markdown",
      "source": [
        "<p3>Mel Frequency Cepstral Coefficients (MFCCs)</p3>\n"
      ],
      "metadata": {
        "id": "s64g1r_pRDt_"
      }
    },
    {
      "cell_type": "markdown",
      "source": [
        "<hr>"
      ],
      "metadata": {
        "id": "vbWiYkrqRGdD"
      }
    },
    {
      "cell_type": "markdown",
      "source": [
        "<p3> Spectral Centroid <p3>"
      ],
      "metadata": {
        "id": "rVr06cxzSzP5"
      }
    },
    {
      "cell_type": "markdown",
      "source": [
        "<hr>"
      ],
      "metadata": {
        "id": "Wa1gzsLPSqum"
      }
    },
    {
      "cell_type": "markdown",
      "source": [
        "<b> Zero Crossing Rate (ZCR) </b>"
      ],
      "metadata": {
        "id": "KG8woeQBYD0u"
      }
    },
    {
      "cell_type": "markdown",
      "source": [
        "<hr>"
      ],
      "metadata": {
        "id": "bg-JgkVbX9Bt"
      }
    },
    {
      "cell_type": "markdown",
      "source": [
        "Intonation"
      ],
      "metadata": {
        "id": "s18kRSV4bFQo"
      }
    },
    {
      "cell_type": "markdown",
      "source": [
        "Energy"
      ],
      "metadata": {
        "id": "0_O0gVO21agz"
      }
    },
    {
      "cell_type": "markdown",
      "source": [
        "<hr>"
      ],
      "metadata": {
        "id": "AcIB8Iut1XPW"
      }
    },
    {
      "cell_type": "markdown",
      "source": [
        "Harmonic-to-Noise Ratio (HNR)\n",
        "\n",
        "\n"
      ],
      "metadata": {
        "id": "df9RFd4C3EaD"
      }
    },
    {
      "cell_type": "code",
      "source": [
        "pip install praat-parselmouth\n"
      ],
      "metadata": {
        "colab": {
          "base_uri": "https://localhost:8080/"
        },
        "id": "4cmYgt2Y3I_x",
        "outputId": "63e7a648-dae8-4f1b-89d4-2b9e0c75aeee"
      },
      "execution_count": 73,
      "outputs": [
        {
          "output_type": "stream",
          "name": "stdout",
          "text": [
            "Requirement already satisfied: praat-parselmouth in /usr/local/lib/python3.10/dist-packages (0.4.3)\n",
            "Requirement already satisfied: numpy>=1.7.0 in /usr/local/lib/python3.10/dist-packages (from praat-parselmouth) (1.25.2)\n"
          ]
        }
      ]
    },
    {
      "cell_type": "markdown",
      "source": [
        "<hr>"
      ],
      "metadata": {
        "id": "oyHB2j-A7lkk"
      }
    },
    {
      "cell_type": "markdown",
      "source": [
        "<hr>"
      ],
      "metadata": {
        "id": "zJxb7-MbFO6E"
      }
    },
    {
      "cell_type": "markdown",
      "source": [
        "#5 Features extraction"
      ],
      "metadata": {
        "id": "uUwB3pPiFTJ0"
      }
    },
    {
      "cell_type": "code",
      "source": [
        "ls"
      ],
      "metadata": {
        "colab": {
          "base_uri": "https://localhost:8080/"
        },
        "id": "690FLQ0IGnwf",
        "outputId": "d7bd063c-5583-48b3-e0f4-56ad3e18ad9c"
      },
      "execution_count": 74,
      "outputs": [
        {
          "output_type": "stream",
          "name": "stdout",
          "text": [
            "cnn_model.h5  \u001b[0m\u001b[01;34mcontent\u001b[0m/  random_forest_model.pkl  \u001b[01;34msample_data\u001b[0m/\n"
          ]
        }
      ]
    },
    {
      "cell_type": "code",
      "source": [
        "import librosa\n",
        "import numpy as np\n",
        "import os\n",
        "\n",
        "# Directory where your audio files are located\n",
        "#directory = '/content/'\n",
        "directory = 'content/audio-shorts/Telefon_59_parts/'"
      ],
      "metadata": {
        "id": "M8AQnpOxRqfA"
      },
      "execution_count": 75,
      "outputs": []
    },
    {
      "cell_type": "code",
      "source": [
        "def extract_featuresAAA(filename):\n",
        "    # Load audio file\n",
        "    y, sample_rate = librosa.load(filename)\n",
        "    #print('File: ', filename)\n",
        "\n",
        "    # Feature 1\n",
        "    # Pitch (using librosa's piptrack)\n",
        "\n",
        "    # Pitch (using librosa's piptrack)\n",
        "    pitches, magnitudes = librosa.piptrack(y=y, sr=sample_rate)\n",
        "\n",
        "    # Mask to extract pitches where magnitudes are above a threshold\n",
        "    mask = magnitudes > np.median(magnitudes)\n",
        "    filtered_pitches = pitches[mask]\n",
        "\n",
        "\n",
        "    pitches, magnitudes = librosa.piptrack(y=y, sr=sample_rate)\n",
        "    #print('Pitches: ', pitches)\n",
        "    #print('Pitches shape: ', pitches.shape)\n",
        "    #print('Magnitudes: ', magnitudes)\n",
        "\n",
        "    # Calculate pitch features\n",
        "    pitch_mean = np.mean(filtered_pitches)\n",
        "    pitch_range = np.max(filtered_pitches) - np.min(filtered_pitches)\n",
        "    pitch_variance = np.var(filtered_pitches)\n",
        "\n",
        "    # Log the features\n",
        "    #print('Pitch Mean: ', pitch_mean)\n",
        "    #print('Pitch Range: ', pitch_range)\n",
        "    #print('Pitch Variance: ', pitch_variance)\n",
        "\n",
        "    # Combine all features into a single array\n",
        "    pitch_features = [pitch_mean, pitch_range, pitch_variance]\n",
        "\n",
        "    #print('features1: ', features1)\n",
        "\n",
        "    # Feature 2\n",
        "    # Spectral Centroid\n",
        "    spectral_centroid = np.mean(librosa.feature.spectral_centroid(y=y, sr=sample_rate))\n",
        "\n",
        "    spectral_centroids = librosa.feature.spectral_centroid(y=y, sr=sample_rate)\n",
        "    spectral_centroid_mean = np.mean(spectral_centroids)\n",
        "    spectral_centroid_range = np.max(spectral_centroids) - np.min(spectral_centroids)\n",
        "    spectral_centroid_variance = np.var(spectral_centroids)\n",
        "\n",
        "    # Combine all spectral centroid features into a single array\n",
        "    spectral_centroid_features = [spectral_centroid_mean, spectral_centroid_range, spectral_centroid_variance]\n",
        "\n",
        "    # Feature 3: Zero Crossing Rate\n",
        "    zero_crossings = librosa.feature.zero_crossing_rate(y)\n",
        "    zcr_mean = np.mean(zero_crossings)\n",
        "    zcr_range = np.max(zero_crossings) - np.min(zero_crossings)\n",
        "    zcr_variance = np.var(zero_crossings)\n",
        "\n",
        "    # Combine all zero crossing rate features into a single array\n",
        "    zcr_features = [zcr_mean, zcr_range, zcr_variance]\n",
        "\n",
        "    # Combine all features into a single array\n",
        "    features = pitch_features + spectral_centroid_features + zcr_features\n",
        "\n",
        "    # Combine all features into a single array and reshape to 3x3 matrix\n",
        "    features_matrix = np.array(features).reshape(3, 3)\n",
        "\n",
        "    features_matrix_rows_names = [\n",
        "                                  'Pitch',\n",
        "                                  'Spectral Centroid',\n",
        "                                  'Zero Crossing Rate'\n",
        "                                  ]\n",
        "\n",
        "    features_matrix_column_names = [\n",
        "                                    [pitch_mean, pitch_range, pitch_variance],\n",
        "                                    [spectral_centroid_mean,spectral_centroid_range,spectral_centroid_variance],\n",
        "                                    [zcr_mean, zcr_range, zcr_variance]\n",
        "                                  ]\n",
        "\n",
        "    return features_matrix, features_matrix_rows_names, features_matrix_column_names\n",
        "\n",
        "# Create the Model's data\n",
        "features = []\n",
        "labels = []\n",
        "\n",
        "for filename in os.listdir(directory):\n",
        "    if filename.endswith('.wav'):\n",
        "        file_path = os.path.join(directory, filename)\n",
        "        features_matrix, features_matrix_rows_names, features_matrix_column_names = extract_featuresAAA(file_path)\n",
        "\n",
        "        feature_values = features_matrix[0]\n",
        "\n",
        "        # Extract label from the filename\n",
        "        if 'A' in filename:\n",
        "            label = 'A'\n",
        "        elif 'B' in filename:\n",
        "            label = 'B'\n",
        "        else:\n",
        "            label = 'Unknown'  # Handle unexpected cases\n",
        "        # Append features and label separately\n",
        "        features.append(feature_values)\n",
        "        labels.append(label)\n",
        "\n",
        "\n",
        "# Example to print the features and labels\n",
        "print('Features: ', features)\n",
        "print('Labels: ', labels)\n",
        "\n",
        "features_array = np.array(features)\n",
        "features_labels = np.array(labels)\n",
        "# Now you can access the shape attribute\n",
        "print(features_array.shape)"
      ],
      "metadata": {
        "colab": {
          "base_uri": "https://localhost:8080/"
        },
        "id": "ypqpycMqRq2-",
        "outputId": "5987ea70-e877-4caa-b11b-ed5211f4f964"
      },
      "execution_count": 76,
      "outputs": [
        {
          "output_type": "stream",
          "name": "stdout",
          "text": [
            "Features:  [array([  1009.18054199,   3836.68481445, 619439.4375    ]), array([   1533.14807129,    3850.48022461, 1309057.75      ]), array([  1291.9675293 ,   3834.92138672, 957185.375     ]), array([   1563.19726562,    3852.71044922, 1234560.25      ]), array([   1818.83740234,    3853.6953125 , 1597217.25      ]), array([   1786.36340332,    3853.12451172, 1364225.75      ]), array([1.42962732e+03, 3.84954639e+03, 1.47560062e+06]), array([   1396.14587402,    3852.10766602, 1068563.5       ]), array([   1640.94165039,    3852.66113281, 1217805.625     ]), array([   1378.12207031,    3843.69580078, 1201136.25      ]), array([   1360.87145996,    3853.84082031, 1179586.75      ]), array([   1581.24902344,    3851.10400391, 1302838.5       ]), array([   1762.77270508,    3848.81738281, 1048141.4375    ]), array([  1416.4675293 ,   3854.20849609, 994966.75      ]), array([   1351.04577637,    3845.2421875 , 1229721.25      ]), array([  1035.29309082,   3785.83422852, 813798.5       ]), array([  1296.29699707,   3782.63793945, 954810.9375    ]), array([  1396.95959473,   3852.44311523, 997275.25      ]), array([1.33511316e+03, 3.85086401e+03, 1.38890925e+06]), array([  1118.7791748,   3837.6640625, 761235.375    ]), array([   1330.66894531,    3846.71386719, 1275713.25      ]), array([   1521.41772461,    3850.22241211, 1376065.625     ]), array([   1649.46948242,    3853.93310547, 1282775.25      ]), array([   1583.34594727,    3851.78125   , 1314514.875     ]), array([   1696.20910645,    3853.33398438, 1152583.625     ]), array([   1505.37475586,    3843.23999023, 1142655.125     ]), array([   1629.01757812,    3848.96533203, 1318249.        ]), array([   1437.72241211,    3854.23071289, 1278282.875     ]), array([9.68900940e+02, 3.85248267e+03, 9.69434125e+05]), array([   1649.9979248 ,    3853.58520508, 1230741.375     ]), array([   1536.63000488,    3846.18481445, 1102155.75      ]), array([  1361.7689209 ,   3845.53466797, 974066.125     ]), array([   1845.87390137,    3853.73876953, 1448462.5       ]), array([   1565.52722168,    3835.76904297, 1131128.125     ]), array([   1350.40515137,    3848.88256836, 1053916.        ]), array([   1428.71972656,    3835.06494141, 1101137.25      ]), array([   1640.94165039,    3852.66113281, 1217805.625     ]), array([   1795.85656738,    3851.87109375, 1394865.5       ]), array([  1297.70227051,   3851.64990234, 984450.0625    ]), array([   1466.02648926,    3853.42089844, 1068627.125     ]), array([   1718.88171387,    3852.52124023, 1322151.375     ]), array([   1661.5793457 ,    3852.86914062, 1286763.375     ]), array([   1495.83581543,    3824.9387207 , 1156708.125     ]), array([   1890.78759766,    3851.37597656, 1344920.        ]), array([   2003.72546387,    3850.69116211, 1350542.5       ]), array([  1473.62390137,   3841.18261719, 987376.        ]), array([   960.93341064,   3771.42260742, 591235.9375    ]), array([   1553.38244629,    3837.21118164, 1172682.875     ]), array([   1628.02563477,    3848.40185547, 1135695.125     ]), array([   2207.03173828,    3848.45458984, 1602497.375     ]), array([   1814.24377441,    3851.50878906, 1324975.375     ]), array([   823.92199707,   3698.01855469, 389942.15625   ]), array([   1450.93225098,    3852.37036133, 1428886.        ]), array([   1983.5267334 ,    3852.47973633, 1434661.875     ]), array([   1748.93457031,    3851.04956055, 1322766.875     ]), array([   953.19232178,   3539.73974609, 394289.875     ]), array([   1766.6463623 ,    3852.45239258, 1191099.875     ]), array([   1670.44042969,    3851.29394531, 1235348.25      ]), array([  1211.38293457,   3841.44018555, 926143.875     ])]\n",
            "Labels:  ['A', 'A', 'A', 'B', 'B', 'B', 'B', 'B', 'B', 'B', 'B', 'A', 'B', 'B', 'B', 'B', 'B', 'A', 'B', 'A', 'B', 'B', 'B', 'B', 'B', 'B', 'B', 'B', 'B', 'B', 'B', 'B', 'B', 'B', 'A', 'A', 'B', 'B', 'B', 'B', 'A', 'B', 'A', 'B', 'A', 'A', 'B', 'B', 'B', 'B', 'A', 'A', 'B', 'B', 'B', 'A', 'A', 'B', 'B']\n",
            "(59, 3)\n"
          ]
        }
      ]
    },
    {
      "cell_type": "code",
      "source": [
        "ls content/audio-shorts/"
      ],
      "metadata": {
        "colab": {
          "base_uri": "https://localhost:8080/"
        },
        "id": "rm1cHTtHhWQL",
        "outputId": "8ac955f1-f080-4aa3-a6ed-a1ccb2b56d27"
      },
      "execution_count": 77,
      "outputs": [
        {
          "output_type": "stream",
          "name": "stdout",
          "text": [
            "\u001b[0m\u001b[01;34mAibolit_33_parts\u001b[0m/  \u001b[01;34maudio-files\u001b[0m/  audio_files.json  README.md  \u001b[01;34mTelefon_59_parts\u001b[0m/\n"
          ]
        }
      ]
    },
    {
      "cell_type": "code",
      "source": [
        "import librosa\n",
        "import numpy as np\n",
        "import os\n",
        "\n",
        "def extract_featuresAAA(filename):\n",
        "    # Load audio file\n",
        "    y, sample_rate = librosa.load(filename)\n",
        "    # print('File: ', filename)\n",
        "\n",
        "    # Feature 1: Pitch (using librosa's piptrack)\n",
        "    pitches, magnitudes = librosa.piptrack(y=y, sr=sample_rate)\n",
        "\n",
        "    # Mask to extract pitches where magnitudes are above a threshold\n",
        "    mask = magnitudes > np.median(magnitudes)\n",
        "    filtered_pitches = pitches[mask]\n",
        "\n",
        "    # Calculate pitch features\n",
        "    pitch_mean = np.mean(filtered_pitches)\n",
        "    pitch_range = np.max(filtered_pitches) - np.min(filtered_pitches)\n",
        "    pitch_variance = np.var(filtered_pitches)\n",
        "\n",
        "    # Combine all pitch features into a single array\n",
        "    pitch_features = [pitch_mean, pitch_range, pitch_variance]\n",
        "\n",
        "    # Feature 2: Spectral Centroid\n",
        "    spectral_centroids = librosa.feature.spectral_centroid(y=y, sr=sample_rate)\n",
        "    spectral_centroid_mean = np.mean(spectral_centroids)\n",
        "    spectral_centroid_range = np.max(spectral_centroids) - np.min(spectral_centroids)\n",
        "    spectral_centroid_variance = np.var(spectral_centroids)\n",
        "\n",
        "    # Combine all spectral centroid features into a single array\n",
        "    spectral_centroid_features = [spectral_centroid_mean, spectral_centroid_range, spectral_centroid_variance]\n",
        "\n",
        "    # Feature 3: Zero Crossing Rate\n",
        "    zero_crossings = librosa.feature.zero_crossing_rate(y)\n",
        "    zcr_mean = np.mean(zero_crossings)\n",
        "    zcr_range = np.max(zero_crossings) - np.min(zero_crossings)\n",
        "    zcr_variance = np.var(zero_crossings)\n",
        "\n",
        "    # Combine all zero crossing rate features into a single array\n",
        "    zcr_features = [zcr_mean, zcr_range, zcr_variance]\n",
        "\n",
        "    # Combine all features into a single array and reshape to 3x3 matrix\n",
        "    features = pitch_features + spectral_centroid_features + zcr_features\n",
        "    features_matrix = np.array(features).reshape(3, 3)\n",
        "\n",
        "    features_matrix_rows_names = [\n",
        "        'feature1: Pitch',\n",
        "        'feature2: Spectral Centroid',\n",
        "        'feature3: Zero Crossing Rate'\n",
        "    ]\n",
        "\n",
        "    features_matrix_column_names = [\n",
        "        ['pitch_mean', 'pitch_range', 'pitch_variance'],\n",
        "        ['spectral_centroid_mean', 'spectral_centroid_range', 'spectral_centroid_variance'],\n",
        "        ['zcr_mean', 'zcr_range', 'zcr_variance']\n",
        "    ]\n",
        "\n",
        "    return features_matrix, features_matrix_rows_names, features_matrix_column_names\n",
        "\n",
        "# Create the Model's data\n",
        "features = []\n",
        "labels = []\n",
        "\n",
        "for filename in os.listdir(directory):\n",
        "    if filename.endswith('.wav'):\n",
        "        file_path = os.path.join(directory, filename)\n",
        "        features_matrix, features_matrix_rows_names, features_matrix_column_names = extract_featuresAAA(file_path)\n",
        "\n",
        "        feature_values = features_matrix\n",
        "\n",
        "        # Extract label from the filename\n",
        "        if 'A' in filename:\n",
        "            label = 'A'\n",
        "        elif 'B' in filename:\n",
        "            label = 'B'\n",
        "        else:\n",
        "            label = 'Unknown'  # Handle unexpected cases\n",
        "        # Append features and label separately\n",
        "        features.append(feature_values)\n",
        "        labels.append(label)\n",
        "\n",
        "# Convert features and labels to numpy arrays\n",
        "features = np.array(features)\n",
        "labels = np.array(labels)\n",
        "\n",
        "# Example to print the features and labels\n",
        "print('Features: ', features)\n",
        "print('Features shape: ', features.shape)\n",
        "print('Labels: ', labels)\n"
      ],
      "metadata": {
        "colab": {
          "base_uri": "https://localhost:8080/"
        },
        "id": "Qby58Zv2VmYq",
        "outputId": "215be00e-8ffc-4381-ce00-d09ed328aab5"
      },
      "execution_count": 78,
      "outputs": [
        {
          "output_type": "stream",
          "name": "stdout",
          "text": [
            "Features:  [[[1.00918054e+03 3.83668481e+03 6.19439438e+05]\n",
            "  [1.51892174e+03 2.06869408e+03 2.12748551e+05]\n",
            "  [7.84225464e-02 1.17187500e-01 7.74276385e-04]]\n",
            "\n",
            " [[1.53314807e+03 3.85048022e+03 1.30905775e+06]\n",
            "  [1.89864061e+03 4.34446707e+03 1.00928213e+06]\n",
            "  [1.20016431e-01 4.23339844e-01 9.53851547e-03]]\n",
            "\n",
            " [[1.29196753e+03 3.83492139e+03 9.57185375e+05]\n",
            "  [1.62016857e+03 2.67028520e+03 1.91585104e+05]\n",
            "  [7.71331787e-02 1.58691406e-01 1.10976375e-03]]\n",
            "\n",
            " [[1.56319727e+03 3.85271045e+03 1.23456025e+06]\n",
            "  [1.77691696e+03 4.52355040e+03 7.52159055e+05]\n",
            "  [1.01609664e-01 4.69726562e-01 8.04351861e-03]]\n",
            "\n",
            " [[1.81883740e+03 3.85369531e+03 1.59721725e+06]\n",
            "  [1.87044277e+03 4.23994337e+03 1.02228970e+06]\n",
            "  [1.12140266e-01 4.56542969e-01 1.09011224e-02]]\n",
            "\n",
            " [[1.78636340e+03 3.85312451e+03 1.36422575e+06]\n",
            "  [1.86647560e+03 4.14093567e+03 7.93718886e+05]\n",
            "  [1.08217353e-01 4.53613281e-01 8.68518026e-03]]\n",
            "\n",
            " [[1.42962732e+03 3.84954639e+03 1.47560062e+06]\n",
            "  [2.03333380e+03 4.51591070e+03 1.45919746e+06]\n",
            "  [1.32796749e-01 4.95605469e-01 2.15791115e-02]]\n",
            "\n",
            " [[1.39614587e+03 3.85210767e+03 1.06856350e+06]\n",
            "  [1.55881826e+03 3.64997476e+03 4.26149224e+05]\n",
            "  [8.23238460e-02 3.84765625e-01 4.71575653e-03]]\n",
            "\n",
            " [[1.64094165e+03 3.85266113e+03 1.21780562e+06]\n",
            "  [1.78146147e+03 4.55036692e+03 8.33564816e+05]\n",
            "  [1.07636719e-01 4.94628906e-01 9.40125427e-03]]\n",
            "\n",
            " [[1.37812207e+03 3.84369580e+03 1.20113625e+06]\n",
            "  [1.99725388e+03 4.10442483e+03 1.06185473e+06]\n",
            "  [1.13630559e-01 3.89160156e-01 7.35667755e-03]]\n",
            "\n",
            " [[1.36087146e+03 3.85384082e+03 1.17958675e+06]\n",
            "  [1.88324087e+03 4.32365842e+03 8.53821468e+05]\n",
            "  [1.18796609e-01 4.39941406e-01 9.95130156e-03]]\n",
            "\n",
            " [[1.58124902e+03 3.85110400e+03 1.30283850e+06]\n",
            "  [1.72342058e+03 4.11873286e+03 9.21104465e+05]\n",
            "  [1.07536765e-01 4.19433594e-01 1.00439613e-02]]\n",
            "\n",
            " [[1.76277271e+03 3.84881738e+03 1.04814144e+06]\n",
            "  [1.90143704e+03 4.01954938e+03 7.05373554e+05]\n",
            "  [1.24751420e-01 4.08203125e-01 7.77694852e-03]]\n",
            "\n",
            " [[1.41646753e+03 3.85420850e+03 9.94966750e+05]\n",
            "  [1.72898186e+03 3.91063040e+03 4.90241746e+05]\n",
            "  [1.02577323e-01 4.46289062e-01 6.30010896e-03]]\n",
            "\n",
            " [[1.35104578e+03 3.84524219e+03 1.22972125e+06]\n",
            "  [1.27180993e+03 3.74957342e+03 5.35637670e+05]\n",
            "  [6.46972656e-02 3.36425781e-01 4.24095927e-03]]\n",
            "\n",
            " [[1.03529309e+03 3.78583423e+03 8.13798500e+05]\n",
            "  [1.40435401e+03 3.31550216e+03 3.87924126e+05]\n",
            "  [6.64297816e-02 2.31933594e-01 1.88821140e-03]]\n",
            "\n",
            " [[1.29629700e+03 3.78263794e+03 9.54810938e+05]\n",
            "  [1.37561362e+03 1.83240973e+03 1.82889614e+05]\n",
            "  [5.78855222e-02 1.45019531e-01 1.08842909e-03]]\n",
            "\n",
            " [[1.39695959e+03 3.85244312e+03 9.97275250e+05]\n",
            "  [1.68008043e+03 2.95882320e+03 4.80043226e+05]\n",
            "  [9.06098464e-02 2.85156250e-01 4.19731068e-03]]\n",
            "\n",
            " [[1.33511316e+03 3.85086401e+03 1.38890925e+06]\n",
            "  [1.75109281e+03 4.38285219e+03 1.15978329e+06]\n",
            "  [1.04768684e-01 4.57519531e-01 1.48480783e-02]]\n",
            "\n",
            " [[1.11877917e+03 3.83766406e+03 7.61235375e+05]\n",
            "  [1.59293857e+03 2.48138121e+03 2.07913577e+05]\n",
            "  [7.10063734e-02 1.09863281e-01 7.27008915e-04]]\n",
            "\n",
            " [[1.33066895e+03 3.84671387e+03 1.27571325e+06]\n",
            "  [1.74094081e+03 4.10915504e+03 9.89854976e+05]\n",
            "  [1.07729311e-01 4.43359375e-01 1.14133737e-02]]\n",
            "\n",
            " [[1.52141772e+03 3.85022241e+03 1.37606562e+06]\n",
            "  [1.81675553e+03 4.30074972e+03 1.12130112e+06]\n",
            "  [1.12117644e-01 4.58984375e-01 1.20372970e-02]]\n",
            "\n",
            " [[1.64946948e+03 3.85393311e+03 1.28277525e+06]\n",
            "  [1.98226607e+03 4.47148328e+03 1.00807371e+06]\n",
            "  [1.27851214e-01 4.79492188e-01 1.26264459e-02]]\n",
            "\n",
            " [[1.58334595e+03 3.85178125e+03 1.31451488e+06]\n",
            "  [1.83299638e+03 4.42514565e+03 1.04336900e+06]\n",
            "  [1.13622639e-01 4.91210938e-01 1.17903231e-02]]\n",
            "\n",
            " [[1.69620911e+03 3.85333398e+03 1.15258362e+06]\n",
            "  [1.86454463e+03 4.07900723e+03 7.54574785e+05]\n",
            "  [1.15042771e-01 4.48730469e-01 8.69468446e-03]]\n",
            "\n",
            " [[1.50537476e+03 3.84323999e+03 1.14265512e+06]\n",
            "  [1.50423788e+03 4.12750688e+03 4.71331256e+05]\n",
            "  [7.60350489e-02 4.60449219e-01 4.82561393e-03]]\n",
            "\n",
            " [[1.62901758e+03 3.84896533e+03 1.31824900e+06]\n",
            "  [1.84218184e+03 4.28940121e+03 1.02577493e+06]\n",
            "  [1.18992187e-01 4.46777344e-01 1.04897431e-02]]\n",
            "\n",
            " [[1.43772241e+03 3.85423071e+03 1.27828288e+06]\n",
            "  [1.80973905e+03 4.40181092e+03 1.00119642e+06]\n",
            "  [1.07764611e-01 4.27246094e-01 9.04226706e-03]]\n",
            "\n",
            " [[9.68900940e+02 3.85248267e+03 9.69434125e+05]\n",
            "  [1.21379760e+03 4.03662456e+03 4.09294618e+05]\n",
            "  [5.56198847e-02 4.26757812e-01 3.54152098e-03]]\n",
            "\n",
            " [[1.64999792e+03 3.85358521e+03 1.23074138e+06]\n",
            "  [1.71189177e+03 3.69951035e+03 5.56395795e+05]\n",
            "  [1.02065466e-01 3.90625000e-01 6.16154972e-03]]\n",
            "\n",
            " [[1.53663000e+03 3.84618481e+03 1.10215575e+06]\n",
            "  [1.62458493e+03 3.53638272e+03 4.40203255e+05]\n",
            "  [8.79309418e-02 4.00390625e-01 5.64924349e-03]]\n",
            "\n",
            " [[1.36176892e+03 3.84553467e+03 9.74066125e+05]\n",
            "  [1.72974686e+03 3.26250950e+03 5.51229121e+05]\n",
            "  [1.01269531e-01 3.24218750e-01 5.32667569e-03]]\n",
            "\n",
            " [[1.84587390e+03 3.85373877e+03 1.44846250e+06]\n",
            "  [1.98867372e+03 4.33473460e+03 1.15592605e+06]\n",
            "  [1.26387101e-01 4.53613281e-01 1.35711251e-02]]\n",
            "\n",
            " [[1.56552722e+03 3.83576904e+03 1.13112812e+06]\n",
            "  [1.86651398e+03 3.81470418e+03 5.55511744e+05]\n",
            "  [9.96605283e-02 2.98828125e-01 3.89715796e-03]]\n",
            "\n",
            " [[1.35040515e+03 3.84888257e+03 1.05391600e+06]\n",
            "  [1.54653788e+03 3.97695482e+03 6.36140189e+05]\n",
            "  [8.19673084e-02 4.48242188e-01 8.09165852e-03]]\n",
            "\n",
            " [[1.42871973e+03 3.83506494e+03 1.10113725e+06]\n",
            "  [1.68280527e+03 2.89738387e+03 3.71615219e+05]\n",
            "  [8.70859925e-02 2.49023438e-01 2.75125032e-03]]\n",
            "\n",
            " [[1.64094165e+03 3.85266113e+03 1.21780562e+06]\n",
            "  [1.78146147e+03 4.55036692e+03 8.33564816e+05]\n",
            "  [1.07636719e-01 4.94628906e-01 9.40125427e-03]]\n",
            "\n",
            " [[1.79585657e+03 3.85187109e+03 1.39486550e+06]\n",
            "  [1.86692147e+03 3.62723247e+03 7.70447806e+05]\n",
            "  [1.11265713e-01 3.89160156e-01 8.91506910e-03]]\n",
            "\n",
            " [[1.29770227e+03 3.85164990e+03 9.84450062e+05]\n",
            "  [1.41812673e+03 3.80656021e+03 5.33849104e+05]\n",
            "  [7.71755642e-02 3.73535156e-01 3.78616136e-03]]\n",
            "\n",
            " [[1.46602649e+03 3.85342090e+03 1.06862712e+06]\n",
            "  [1.86335893e+03 4.30927719e+03 6.56403775e+05]\n",
            "  [1.07494482e-01 4.72656250e-01 8.19647982e-03]]\n",
            "\n",
            " [[1.71888171e+03 3.85252124e+03 1.32215138e+06]\n",
            "  [1.88400249e+03 4.33519914e+03 7.53221992e+05]\n",
            "  [1.14664167e-01 4.37500000e-01 8.67022093e-03]]\n",
            "\n",
            " [[1.66157935e+03 3.85286914e+03 1.28676338e+06]\n",
            "  [1.78444915e+03 4.48037493e+03 8.95668870e+05]\n",
            "  [1.14257812e-01 4.61914062e-01 9.39472242e-03]]\n",
            "\n",
            " [[1.49583582e+03 3.82493872e+03 1.15670812e+06]\n",
            "  [1.58644143e+03 1.96242608e+03 1.56887787e+05]\n",
            "  [7.64212101e-02 1.04492188e-01 6.65298141e-04]]\n",
            "\n",
            " [[1.89078760e+03 3.85137598e+03 1.34492000e+06]\n",
            "  [1.95682173e+03 4.34855101e+03 6.94941465e+05]\n",
            "  [1.11777344e-01 4.72167969e-01 8.28269459e-03]]\n",
            "\n",
            " [[2.00372546e+03 3.85069116e+03 1.35054250e+06]\n",
            "  [2.23359229e+03 4.53082955e+03 1.01018015e+06]\n",
            "  [1.44750702e-01 5.00000000e-01 1.38218430e-02]]\n",
            "\n",
            " [[1.47362390e+03 3.84118262e+03 9.87376000e+05]\n",
            "  [1.72523355e+03 3.83698711e+03 3.55444094e+05]\n",
            "  [9.54226230e-02 3.99902344e-01 3.92374158e-03]]\n",
            "\n",
            " [[9.60933411e+02 3.77142261e+03 5.91235938e+05]\n",
            "  [1.47744599e+03 2.25611370e+03 2.16698738e+05]\n",
            "  [5.53260216e-02 8.15429688e-02 4.61124810e-04]]\n",
            "\n",
            " [[1.55338245e+03 3.83721118e+03 1.17268288e+06]\n",
            "  [1.93058821e+03 4.48190757e+03 1.14773302e+06]\n",
            "  [1.24197520e-01 4.54101562e-01 1.16101148e-02]]\n",
            "\n",
            " [[1.62802563e+03 3.84840186e+03 1.13569512e+06]\n",
            "  [1.92242059e+03 3.42143172e+03 3.33933988e+05]\n",
            "  [9.71326326e-02 2.71972656e-01 2.46834787e-03]]\n",
            "\n",
            " [[2.20703174e+03 3.84845459e+03 1.60249738e+06]\n",
            "  [2.86164989e+03 3.90134923e+03 1.59584547e+06]\n",
            "  [2.20694247e-01 4.66796875e-01 2.42674003e-02]]\n",
            "\n",
            " [[1.81424377e+03 3.85150879e+03 1.32497538e+06]\n",
            "  [1.88281419e+03 4.48185343e+03 9.46074481e+05]\n",
            "  [1.10710798e-01 4.42382812e-01 9.55934733e-03]]\n",
            "\n",
            " [[8.23921997e+02 3.69801855e+03 3.89942156e+05]\n",
            "  [1.44341535e+03 2.45655068e+03 2.70301125e+05]\n",
            "  [6.55095881e-02 8.44726562e-02 5.68665276e-04]]\n",
            "\n",
            " [[1.45093225e+03 3.85237036e+03 1.42888600e+06]\n",
            "  [1.66574496e+03 4.37406393e+03 4.23076972e+05]\n",
            "  [6.91610647e-02 4.37988281e-01 2.87017869e-03]]\n",
            "\n",
            " [[1.98352673e+03 3.85247974e+03 1.43466188e+06]\n",
            "  [2.03057201e+03 4.58307495e+03 9.11406306e+05]\n",
            "  [1.14296593e-01 4.75585938e-01 1.08510977e-02]]\n",
            "\n",
            " [[1.74893457e+03 3.85104956e+03 1.32276688e+06]\n",
            "  [1.88228721e+03 3.80102770e+03 6.08192379e+05]\n",
            "  [1.12443734e-01 3.98437500e-01 5.93840485e-03]]\n",
            "\n",
            " [[9.53192322e+02 3.53973975e+03 3.94289875e+05]\n",
            "  [1.24716478e+03 1.54941440e+03 1.63649921e+05]\n",
            "  [5.80376519e-02 8.49609375e-02 6.05836879e-04]]\n",
            "\n",
            " [[1.76664636e+03 3.85245239e+03 1.19109988e+06]\n",
            "  [1.74072150e+03 3.54511662e+03 7.74056710e+05]\n",
            "  [9.52447385e-02 3.27148438e-01 6.87787395e-03]]\n",
            "\n",
            " [[1.67044043e+03 3.85129395e+03 1.23534825e+06]\n",
            "  [1.86446542e+03 3.56495281e+03 4.74078566e+05]\n",
            "  [1.09410545e-01 3.63281250e-01 5.22381283e-03]]\n",
            "\n",
            " [[1.21138293e+03 3.84144019e+03 9.26143875e+05]\n",
            "  [1.44345339e+03 4.13446881e+03 4.89059595e+05]\n",
            "  [6.83556759e-02 4.37500000e-01 4.98479965e-03]]]\n",
            "Features shape:  (59, 3, 3)\n",
            "Labels:  ['A' 'A' 'A' 'B' 'B' 'B' 'B' 'B' 'B' 'B' 'B' 'A' 'B' 'B' 'B' 'B' 'B' 'A'\n",
            " 'B' 'A' 'B' 'B' 'B' 'B' 'B' 'B' 'B' 'B' 'B' 'B' 'B' 'B' 'B' 'B' 'A' 'A'\n",
            " 'B' 'B' 'B' 'B' 'A' 'B' 'A' 'B' 'A' 'A' 'B' 'B' 'B' 'B' 'A' 'A' 'B' 'B'\n",
            " 'B' 'A' 'A' 'B' 'B']\n"
          ]
        }
      ]
    },
    {
      "cell_type": "code",
      "source": [
        "features.shape"
      ],
      "metadata": {
        "colab": {
          "base_uri": "https://localhost:8080/"
        },
        "id": "ikx0g2D-FPSO",
        "outputId": "03b4efa8-c55a-4aab-aa2f-207669325d2f"
      },
      "execution_count": 79,
      "outputs": [
        {
          "output_type": "execute_result",
          "data": {
            "text/plain": [
              "(59, 3, 3)"
            ]
          },
          "metadata": {},
          "execution_count": 79
        }
      ]
    },
    {
      "cell_type": "code",
      "source": [],
      "metadata": {
        "id": "p7Nq1HrhU4gR"
      },
      "execution_count": 79,
      "outputs": []
    },
    {
      "cell_type": "code",
      "source": [
        "labels.shape"
      ],
      "metadata": {
        "colab": {
          "base_uri": "https://localhost:8080/"
        },
        "id": "rYw_T2ToF3Np",
        "outputId": "bb661bae-cdf5-45e7-a842-fa37d95c0bec"
      },
      "execution_count": 80,
      "outputs": [
        {
          "output_type": "execute_result",
          "data": {
            "text/plain": [
              "(59,)"
            ]
          },
          "metadata": {},
          "execution_count": 80
        }
      ]
    },
    {
      "cell_type": "code",
      "source": [
        "features"
      ],
      "metadata": {
        "colab": {
          "base_uri": "https://localhost:8080/"
        },
        "id": "qeV77xfo9LD1",
        "outputId": "42b0da7a-4c52-473f-9f44-1a4dc1e86993"
      },
      "execution_count": 81,
      "outputs": [
        {
          "output_type": "execute_result",
          "data": {
            "text/plain": [
              "array([[[1.00918054e+03, 3.83668481e+03, 6.19439438e+05],\n",
              "        [1.51892174e+03, 2.06869408e+03, 2.12748551e+05],\n",
              "        [7.84225464e-02, 1.17187500e-01, 7.74276385e-04]],\n",
              "\n",
              "       [[1.53314807e+03, 3.85048022e+03, 1.30905775e+06],\n",
              "        [1.89864061e+03, 4.34446707e+03, 1.00928213e+06],\n",
              "        [1.20016431e-01, 4.23339844e-01, 9.53851547e-03]],\n",
              "\n",
              "       [[1.29196753e+03, 3.83492139e+03, 9.57185375e+05],\n",
              "        [1.62016857e+03, 2.67028520e+03, 1.91585104e+05],\n",
              "        [7.71331787e-02, 1.58691406e-01, 1.10976375e-03]],\n",
              "\n",
              "       [[1.56319727e+03, 3.85271045e+03, 1.23456025e+06],\n",
              "        [1.77691696e+03, 4.52355040e+03, 7.52159055e+05],\n",
              "        [1.01609664e-01, 4.69726562e-01, 8.04351861e-03]],\n",
              "\n",
              "       [[1.81883740e+03, 3.85369531e+03, 1.59721725e+06],\n",
              "        [1.87044277e+03, 4.23994337e+03, 1.02228970e+06],\n",
              "        [1.12140266e-01, 4.56542969e-01, 1.09011224e-02]],\n",
              "\n",
              "       [[1.78636340e+03, 3.85312451e+03, 1.36422575e+06],\n",
              "        [1.86647560e+03, 4.14093567e+03, 7.93718886e+05],\n",
              "        [1.08217353e-01, 4.53613281e-01, 8.68518026e-03]],\n",
              "\n",
              "       [[1.42962732e+03, 3.84954639e+03, 1.47560062e+06],\n",
              "        [2.03333380e+03, 4.51591070e+03, 1.45919746e+06],\n",
              "        [1.32796749e-01, 4.95605469e-01, 2.15791115e-02]],\n",
              "\n",
              "       [[1.39614587e+03, 3.85210767e+03, 1.06856350e+06],\n",
              "        [1.55881826e+03, 3.64997476e+03, 4.26149224e+05],\n",
              "        [8.23238460e-02, 3.84765625e-01, 4.71575653e-03]],\n",
              "\n",
              "       [[1.64094165e+03, 3.85266113e+03, 1.21780562e+06],\n",
              "        [1.78146147e+03, 4.55036692e+03, 8.33564816e+05],\n",
              "        [1.07636719e-01, 4.94628906e-01, 9.40125427e-03]],\n",
              "\n",
              "       [[1.37812207e+03, 3.84369580e+03, 1.20113625e+06],\n",
              "        [1.99725388e+03, 4.10442483e+03, 1.06185473e+06],\n",
              "        [1.13630559e-01, 3.89160156e-01, 7.35667755e-03]],\n",
              "\n",
              "       [[1.36087146e+03, 3.85384082e+03, 1.17958675e+06],\n",
              "        [1.88324087e+03, 4.32365842e+03, 8.53821468e+05],\n",
              "        [1.18796609e-01, 4.39941406e-01, 9.95130156e-03]],\n",
              "\n",
              "       [[1.58124902e+03, 3.85110400e+03, 1.30283850e+06],\n",
              "        [1.72342058e+03, 4.11873286e+03, 9.21104465e+05],\n",
              "        [1.07536765e-01, 4.19433594e-01, 1.00439613e-02]],\n",
              "\n",
              "       [[1.76277271e+03, 3.84881738e+03, 1.04814144e+06],\n",
              "        [1.90143704e+03, 4.01954938e+03, 7.05373554e+05],\n",
              "        [1.24751420e-01, 4.08203125e-01, 7.77694852e-03]],\n",
              "\n",
              "       [[1.41646753e+03, 3.85420850e+03, 9.94966750e+05],\n",
              "        [1.72898186e+03, 3.91063040e+03, 4.90241746e+05],\n",
              "        [1.02577323e-01, 4.46289062e-01, 6.30010896e-03]],\n",
              "\n",
              "       [[1.35104578e+03, 3.84524219e+03, 1.22972125e+06],\n",
              "        [1.27180993e+03, 3.74957342e+03, 5.35637670e+05],\n",
              "        [6.46972656e-02, 3.36425781e-01, 4.24095927e-03]],\n",
              "\n",
              "       [[1.03529309e+03, 3.78583423e+03, 8.13798500e+05],\n",
              "        [1.40435401e+03, 3.31550216e+03, 3.87924126e+05],\n",
              "        [6.64297816e-02, 2.31933594e-01, 1.88821140e-03]],\n",
              "\n",
              "       [[1.29629700e+03, 3.78263794e+03, 9.54810938e+05],\n",
              "        [1.37561362e+03, 1.83240973e+03, 1.82889614e+05],\n",
              "        [5.78855222e-02, 1.45019531e-01, 1.08842909e-03]],\n",
              "\n",
              "       [[1.39695959e+03, 3.85244312e+03, 9.97275250e+05],\n",
              "        [1.68008043e+03, 2.95882320e+03, 4.80043226e+05],\n",
              "        [9.06098464e-02, 2.85156250e-01, 4.19731068e-03]],\n",
              "\n",
              "       [[1.33511316e+03, 3.85086401e+03, 1.38890925e+06],\n",
              "        [1.75109281e+03, 4.38285219e+03, 1.15978329e+06],\n",
              "        [1.04768684e-01, 4.57519531e-01, 1.48480783e-02]],\n",
              "\n",
              "       [[1.11877917e+03, 3.83766406e+03, 7.61235375e+05],\n",
              "        [1.59293857e+03, 2.48138121e+03, 2.07913577e+05],\n",
              "        [7.10063734e-02, 1.09863281e-01, 7.27008915e-04]],\n",
              "\n",
              "       [[1.33066895e+03, 3.84671387e+03, 1.27571325e+06],\n",
              "        [1.74094081e+03, 4.10915504e+03, 9.89854976e+05],\n",
              "        [1.07729311e-01, 4.43359375e-01, 1.14133737e-02]],\n",
              "\n",
              "       [[1.52141772e+03, 3.85022241e+03, 1.37606562e+06],\n",
              "        [1.81675553e+03, 4.30074972e+03, 1.12130112e+06],\n",
              "        [1.12117644e-01, 4.58984375e-01, 1.20372970e-02]],\n",
              "\n",
              "       [[1.64946948e+03, 3.85393311e+03, 1.28277525e+06],\n",
              "        [1.98226607e+03, 4.47148328e+03, 1.00807371e+06],\n",
              "        [1.27851214e-01, 4.79492188e-01, 1.26264459e-02]],\n",
              "\n",
              "       [[1.58334595e+03, 3.85178125e+03, 1.31451488e+06],\n",
              "        [1.83299638e+03, 4.42514565e+03, 1.04336900e+06],\n",
              "        [1.13622639e-01, 4.91210938e-01, 1.17903231e-02]],\n",
              "\n",
              "       [[1.69620911e+03, 3.85333398e+03, 1.15258362e+06],\n",
              "        [1.86454463e+03, 4.07900723e+03, 7.54574785e+05],\n",
              "        [1.15042771e-01, 4.48730469e-01, 8.69468446e-03]],\n",
              "\n",
              "       [[1.50537476e+03, 3.84323999e+03, 1.14265512e+06],\n",
              "        [1.50423788e+03, 4.12750688e+03, 4.71331256e+05],\n",
              "        [7.60350489e-02, 4.60449219e-01, 4.82561393e-03]],\n",
              "\n",
              "       [[1.62901758e+03, 3.84896533e+03, 1.31824900e+06],\n",
              "        [1.84218184e+03, 4.28940121e+03, 1.02577493e+06],\n",
              "        [1.18992187e-01, 4.46777344e-01, 1.04897431e-02]],\n",
              "\n",
              "       [[1.43772241e+03, 3.85423071e+03, 1.27828288e+06],\n",
              "        [1.80973905e+03, 4.40181092e+03, 1.00119642e+06],\n",
              "        [1.07764611e-01, 4.27246094e-01, 9.04226706e-03]],\n",
              "\n",
              "       [[9.68900940e+02, 3.85248267e+03, 9.69434125e+05],\n",
              "        [1.21379760e+03, 4.03662456e+03, 4.09294618e+05],\n",
              "        [5.56198847e-02, 4.26757812e-01, 3.54152098e-03]],\n",
              "\n",
              "       [[1.64999792e+03, 3.85358521e+03, 1.23074138e+06],\n",
              "        [1.71189177e+03, 3.69951035e+03, 5.56395795e+05],\n",
              "        [1.02065466e-01, 3.90625000e-01, 6.16154972e-03]],\n",
              "\n",
              "       [[1.53663000e+03, 3.84618481e+03, 1.10215575e+06],\n",
              "        [1.62458493e+03, 3.53638272e+03, 4.40203255e+05],\n",
              "        [8.79309418e-02, 4.00390625e-01, 5.64924349e-03]],\n",
              "\n",
              "       [[1.36176892e+03, 3.84553467e+03, 9.74066125e+05],\n",
              "        [1.72974686e+03, 3.26250950e+03, 5.51229121e+05],\n",
              "        [1.01269531e-01, 3.24218750e-01, 5.32667569e-03]],\n",
              "\n",
              "       [[1.84587390e+03, 3.85373877e+03, 1.44846250e+06],\n",
              "        [1.98867372e+03, 4.33473460e+03, 1.15592605e+06],\n",
              "        [1.26387101e-01, 4.53613281e-01, 1.35711251e-02]],\n",
              "\n",
              "       [[1.56552722e+03, 3.83576904e+03, 1.13112812e+06],\n",
              "        [1.86651398e+03, 3.81470418e+03, 5.55511744e+05],\n",
              "        [9.96605283e-02, 2.98828125e-01, 3.89715796e-03]],\n",
              "\n",
              "       [[1.35040515e+03, 3.84888257e+03, 1.05391600e+06],\n",
              "        [1.54653788e+03, 3.97695482e+03, 6.36140189e+05],\n",
              "        [8.19673084e-02, 4.48242188e-01, 8.09165852e-03]],\n",
              "\n",
              "       [[1.42871973e+03, 3.83506494e+03, 1.10113725e+06],\n",
              "        [1.68280527e+03, 2.89738387e+03, 3.71615219e+05],\n",
              "        [8.70859925e-02, 2.49023438e-01, 2.75125032e-03]],\n",
              "\n",
              "       [[1.64094165e+03, 3.85266113e+03, 1.21780562e+06],\n",
              "        [1.78146147e+03, 4.55036692e+03, 8.33564816e+05],\n",
              "        [1.07636719e-01, 4.94628906e-01, 9.40125427e-03]],\n",
              "\n",
              "       [[1.79585657e+03, 3.85187109e+03, 1.39486550e+06],\n",
              "        [1.86692147e+03, 3.62723247e+03, 7.70447806e+05],\n",
              "        [1.11265713e-01, 3.89160156e-01, 8.91506910e-03]],\n",
              "\n",
              "       [[1.29770227e+03, 3.85164990e+03, 9.84450062e+05],\n",
              "        [1.41812673e+03, 3.80656021e+03, 5.33849104e+05],\n",
              "        [7.71755642e-02, 3.73535156e-01, 3.78616136e-03]],\n",
              "\n",
              "       [[1.46602649e+03, 3.85342090e+03, 1.06862712e+06],\n",
              "        [1.86335893e+03, 4.30927719e+03, 6.56403775e+05],\n",
              "        [1.07494482e-01, 4.72656250e-01, 8.19647982e-03]],\n",
              "\n",
              "       [[1.71888171e+03, 3.85252124e+03, 1.32215138e+06],\n",
              "        [1.88400249e+03, 4.33519914e+03, 7.53221992e+05],\n",
              "        [1.14664167e-01, 4.37500000e-01, 8.67022093e-03]],\n",
              "\n",
              "       [[1.66157935e+03, 3.85286914e+03, 1.28676338e+06],\n",
              "        [1.78444915e+03, 4.48037493e+03, 8.95668870e+05],\n",
              "        [1.14257812e-01, 4.61914062e-01, 9.39472242e-03]],\n",
              "\n",
              "       [[1.49583582e+03, 3.82493872e+03, 1.15670812e+06],\n",
              "        [1.58644143e+03, 1.96242608e+03, 1.56887787e+05],\n",
              "        [7.64212101e-02, 1.04492188e-01, 6.65298141e-04]],\n",
              "\n",
              "       [[1.89078760e+03, 3.85137598e+03, 1.34492000e+06],\n",
              "        [1.95682173e+03, 4.34855101e+03, 6.94941465e+05],\n",
              "        [1.11777344e-01, 4.72167969e-01, 8.28269459e-03]],\n",
              "\n",
              "       [[2.00372546e+03, 3.85069116e+03, 1.35054250e+06],\n",
              "        [2.23359229e+03, 4.53082955e+03, 1.01018015e+06],\n",
              "        [1.44750702e-01, 5.00000000e-01, 1.38218430e-02]],\n",
              "\n",
              "       [[1.47362390e+03, 3.84118262e+03, 9.87376000e+05],\n",
              "        [1.72523355e+03, 3.83698711e+03, 3.55444094e+05],\n",
              "        [9.54226230e-02, 3.99902344e-01, 3.92374158e-03]],\n",
              "\n",
              "       [[9.60933411e+02, 3.77142261e+03, 5.91235938e+05],\n",
              "        [1.47744599e+03, 2.25611370e+03, 2.16698738e+05],\n",
              "        [5.53260216e-02, 8.15429688e-02, 4.61124810e-04]],\n",
              "\n",
              "       [[1.55338245e+03, 3.83721118e+03, 1.17268288e+06],\n",
              "        [1.93058821e+03, 4.48190757e+03, 1.14773302e+06],\n",
              "        [1.24197520e-01, 4.54101562e-01, 1.16101148e-02]],\n",
              "\n",
              "       [[1.62802563e+03, 3.84840186e+03, 1.13569512e+06],\n",
              "        [1.92242059e+03, 3.42143172e+03, 3.33933988e+05],\n",
              "        [9.71326326e-02, 2.71972656e-01, 2.46834787e-03]],\n",
              "\n",
              "       [[2.20703174e+03, 3.84845459e+03, 1.60249738e+06],\n",
              "        [2.86164989e+03, 3.90134923e+03, 1.59584547e+06],\n",
              "        [2.20694247e-01, 4.66796875e-01, 2.42674003e-02]],\n",
              "\n",
              "       [[1.81424377e+03, 3.85150879e+03, 1.32497538e+06],\n",
              "        [1.88281419e+03, 4.48185343e+03, 9.46074481e+05],\n",
              "        [1.10710798e-01, 4.42382812e-01, 9.55934733e-03]],\n",
              "\n",
              "       [[8.23921997e+02, 3.69801855e+03, 3.89942156e+05],\n",
              "        [1.44341535e+03, 2.45655068e+03, 2.70301125e+05],\n",
              "        [6.55095881e-02, 8.44726562e-02, 5.68665276e-04]],\n",
              "\n",
              "       [[1.45093225e+03, 3.85237036e+03, 1.42888600e+06],\n",
              "        [1.66574496e+03, 4.37406393e+03, 4.23076972e+05],\n",
              "        [6.91610647e-02, 4.37988281e-01, 2.87017869e-03]],\n",
              "\n",
              "       [[1.98352673e+03, 3.85247974e+03, 1.43466188e+06],\n",
              "        [2.03057201e+03, 4.58307495e+03, 9.11406306e+05],\n",
              "        [1.14296593e-01, 4.75585938e-01, 1.08510977e-02]],\n",
              "\n",
              "       [[1.74893457e+03, 3.85104956e+03, 1.32276688e+06],\n",
              "        [1.88228721e+03, 3.80102770e+03, 6.08192379e+05],\n",
              "        [1.12443734e-01, 3.98437500e-01, 5.93840485e-03]],\n",
              "\n",
              "       [[9.53192322e+02, 3.53973975e+03, 3.94289875e+05],\n",
              "        [1.24716478e+03, 1.54941440e+03, 1.63649921e+05],\n",
              "        [5.80376519e-02, 8.49609375e-02, 6.05836879e-04]],\n",
              "\n",
              "       [[1.76664636e+03, 3.85245239e+03, 1.19109988e+06],\n",
              "        [1.74072150e+03, 3.54511662e+03, 7.74056710e+05],\n",
              "        [9.52447385e-02, 3.27148438e-01, 6.87787395e-03]],\n",
              "\n",
              "       [[1.67044043e+03, 3.85129395e+03, 1.23534825e+06],\n",
              "        [1.86446542e+03, 3.56495281e+03, 4.74078566e+05],\n",
              "        [1.09410545e-01, 3.63281250e-01, 5.22381283e-03]],\n",
              "\n",
              "       [[1.21138293e+03, 3.84144019e+03, 9.26143875e+05],\n",
              "        [1.44345339e+03, 4.13446881e+03, 4.89059595e+05],\n",
              "        [6.83556759e-02, 4.37500000e-01, 4.98479965e-03]]])"
            ]
          },
          "metadata": {},
          "execution_count": 81
        }
      ]
    },
    {
      "cell_type": "code",
      "source": [
        "features_matrix_rows_names"
      ],
      "metadata": {
        "colab": {
          "base_uri": "https://localhost:8080/"
        },
        "id": "fcyw87ZenbsM",
        "outputId": "f670d747-64fc-4b59-e7b7-16b93eaa86b1"
      },
      "execution_count": 82,
      "outputs": [
        {
          "output_type": "execute_result",
          "data": {
            "text/plain": [
              "['feature1: Pitch',\n",
              " 'feature2: Spectral Centroid',\n",
              " 'feature3: Zero Crossing Rate']"
            ]
          },
          "metadata": {},
          "execution_count": 82
        }
      ]
    },
    {
      "cell_type": "code",
      "source": [
        "features_matrix_column_names"
      ],
      "metadata": {
        "colab": {
          "base_uri": "https://localhost:8080/"
        },
        "id": "dw8ls0L_nuqo",
        "outputId": "067059a9-edd6-4731-a351-800e8d5af489"
      },
      "execution_count": 83,
      "outputs": [
        {
          "output_type": "execute_result",
          "data": {
            "text/plain": [
              "[['pitch_mean', 'pitch_range', 'pitch_variance'],\n",
              " ['spectral_centroid_mean',\n",
              "  'spectral_centroid_range',\n",
              "  'spectral_centroid_variance'],\n",
              " ['zcr_mean', 'zcr_range', 'zcr_variance']]"
            ]
          },
          "metadata": {},
          "execution_count": 83
        }
      ]
    },
    {
      "cell_type": "code",
      "source": [],
      "metadata": {
        "id": "RxBh-1_tjQN2"
      },
      "execution_count": 83,
      "outputs": []
    },
    {
      "cell_type": "code",
      "source": [
        "features_matrix_column_names"
      ],
      "metadata": {
        "colab": {
          "base_uri": "https://localhost:8080/"
        },
        "id": "PnJGAtjIi0px",
        "outputId": "470fcb43-cfdc-4bb6-c088-9a8bc49a4fb2"
      },
      "execution_count": 84,
      "outputs": [
        {
          "output_type": "execute_result",
          "data": {
            "text/plain": [
              "[['pitch_mean', 'pitch_range', 'pitch_variance'],\n",
              " ['spectral_centroid_mean',\n",
              "  'spectral_centroid_range',\n",
              "  'spectral_centroid_variance'],\n",
              " ['zcr_mean', 'zcr_range', 'zcr_variance']]"
            ]
          },
          "metadata": {},
          "execution_count": 84
        }
      ]
    },
    {
      "cell_type": "code",
      "source": [],
      "metadata": {
        "id": "NTDgXpEkjOyc"
      },
      "execution_count": 84,
      "outputs": []
    },
    {
      "cell_type": "code",
      "source": [
        ""
      ],
      "metadata": {
        "id": "KukPaESnjNiK"
      },
      "execution_count": 84,
      "outputs": []
    },
    {
      "cell_type": "markdown",
      "source": [
        "#Histograms"
      ],
      "metadata": {
        "id": "5jnA6tfloCz8"
      }
    },
    {
      "cell_type": "code",
      "source": [
        "import matplotlib.pyplot as plt\n",
        "\n",
        "# Separate features based on labels\n",
        "features_A = features[labels == 'A']\n",
        "features_B = features[labels == 'B']\n",
        "\n",
        "# Define sub-feature names\n",
        "sub_feature_names = [\n",
        "    'Mean', 'Range', 'Variance'\n",
        "]\n",
        "\n",
        "# Define feature names\n",
        "feature_names = [\n",
        "    'Pitch', 'Spectral Centroid', 'Zero Crossing Rate'\n",
        "]\n",
        "\n",
        "# Create histograms\n",
        "fig, axs = plt.subplots(3, 3, figsize=(15, 15))\n",
        "\n",
        "for i in range(3):  # Iterate over rows (features)\n",
        "    for j in range(3):  # Iterate over columns (sub-features)\n",
        "        axs[i, j].hist(features_A[:, i, j], bins=10, alpha=0.7, label='A', color='blue')\n",
        "        axs[i, j].hist(features_B[:, i, j], bins=10, alpha=0.7, label='B', color='orange')\n",
        "        axs[i, j].set_title(f'{feature_names[i]} - {sub_feature_names[j]}')\n",
        "        axs[i, j].set_xlabel(sub_feature_names[j])\n",
        "        axs[i, j].set_ylabel('Frequency')\n",
        "        axs[i, j].legend()\n",
        "\n",
        "# Adjust layout and show plot\n",
        "plt.tight_layout()\n",
        "plt.show()\n"
      ],
      "metadata": {
        "colab": {
          "base_uri": "https://localhost:8080/",
          "height": 1000
        },
        "id": "ArwS-kiIoF85",
        "outputId": "7ef26f93-1af9-4913-d805-f84518debbe5"
      },
      "execution_count": 85,
      "outputs": [
        {
          "output_type": "display_data",
          "data": {
            "text/plain": [
              "<Figure size 1500x1500 with 9 Axes>"
            ],
            "image/png": "[encoded data removed]"
          },
          "metadata": {}
        }
      ]
    },
    {
      "cell_type": "markdown",
      "source": [
        "#Modelling"
      ],
      "metadata": {
        "id": "9gqs1sIgM0-C"
      }
    },
    {
      "cell_type": "markdown",
      "source": [
        "##CNN model"
      ],
      "metadata": {
        "id": "rCkVXitkol60"
      }
    },
    {
      "cell_type": "code",
      "source": [
        "import tensorflow as tf\n",
        "from tensorflow.keras.models import Sequential\n",
        "from tensorflow.keras.layers import Conv2D, MaxPooling2D, Flatten, Dense, Dropout\n",
        "from sklearn.model_selection import train_test_split\n",
        "from sklearn.preprocessing import StandardScaler\n",
        "\n",
        "# Ensure you have TensorFlow and Keras installed\n",
        "# pip install tensorflow\n",
        "\n",
        "# Normalize the features\n",
        "scaler = StandardScaler()\n",
        "features_reshaped = features.reshape(-1, 9)  # Reshape to 2D array for scaling\n",
        "features_normalized = scaler.fit_transform(features_reshaped)\n",
        "features_normalized = features_normalized.reshape(-1, 3, 3, 1)  # Reshape back to original shape with channel dimension\n",
        "\n",
        "# Convert labels to binary format (0 for 'A', 1 for 'B')\n",
        "binary_labels = (labels == 'B').astype(int)\n",
        "\n",
        "# Split the data into training and testing sets\n",
        "X_train, X_test, y_train, y_test = train_test_split(features_normalized, binary_labels, test_size=0.2, random_state=42)\n",
        "\n",
        "# Define the improved CNN model\n",
        "def create_cnn_model(input_shape):\n",
        "    model = Sequential([\n",
        "        Conv2D(64, (2, 2), activation='relu', input_shape=input_shape),\n",
        "        MaxPooling2D((2, 2)),\n",
        "        Dropout(0.3),\n",
        "\n",
        "        Flatten(),\n",
        "        Dense(128, activation='relu'),\n",
        "        Dropout(0.5),\n",
        "        Dense(1, activation='sigmoid')  # Binary classification\n",
        "    ])\n",
        "\n",
        "    model.compile(optimizer='adam', loss='binary_crossentropy', metrics=['accuracy'])\n",
        "    return model\n",
        "\n",
        "# Create the CNN model\n",
        "input_shape = (3, 3, 1)\n",
        "cnn_model = create_cnn_model(input_shape)\n",
        "\n",
        "# Print the model summary\n",
        "cnn_model.summary()\n",
        "\n",
        "# Train the model\n",
        "history = cnn_model.fit(X_train, y_train, epochs=100, batch_size=8, validation_split=0.2)\n",
        "\n",
        "# Evaluate the model on the test set\n",
        "test_loss, test_accuracy = cnn_model.evaluate(X_test, y_test)\n",
        "print(f\"Test Accuracy: {test_accuracy:.2f}\")\n",
        "\n",
        "# Plot training history\n",
        "import matplotlib.pyplot as plt\n",
        "\n",
        "plt.figure(figsize=(12, 4))\n",
        "plt.subplot(1, 2, 1)\n",
        "plt.plot(history.history['loss'], label='Loss')\n",
        "plt.plot(history.history['val_loss'], label='Validation Loss')\n",
        "plt.title('Loss')\n",
        "plt.xlabel('Epochs')\n",
        "plt.ylabel('Loss')\n",
        "plt.legend()\n",
        "\n",
        "plt.subplot(1, 2, 2)\n",
        "plt.plot(history.history['accuracy'], label='Accuracy')\n",
        "plt.plot(history.history['val_accuracy'], label='Validation Accuracy')\n",
        "plt.title('Accuracy')\n",
        "plt.xlabel('Epochs')\n",
        "plt.ylabel('Accuracy')\n",
        "plt.legend()\n",
        "\n",
        "plt.tight_layout()\n",
        "plt.show()\n"
      ],
      "metadata": {
        "colab": {
          "base_uri": "https://localhost:8080/",
          "height": 1000
        },
        "id": "iQ_dQmUHok8S",
        "outputId": "040dc35f-5f78-4b82-b24f-641890ec8627"
      },
      "execution_count": 86,
      "outputs": [
        {
          "output_type": "stream",
          "name": "stdout",
          "text": [
            "Model: \"sequential_1\"\n",
            "_________________________________________________________________\n",
            " Layer (type)                Output Shape              Param #   \n",
            "=================================================================\n",
            " conv2d_1 (Conv2D)           (None, 2, 2, 64)          320       \n",
            "                                                                 \n",
            " max_pooling2d_1 (MaxPoolin  (None, 1, 1, 64)          0         \n",
            " g2D)                                                            \n",
            "                                                                 \n",
            " dropout_2 (Dropout)         (None, 1, 1, 64)          0         \n",
            "                                                                 \n",
            " flatten_1 (Flatten)         (None, 64)                0         \n",
            "                                                                 \n",
            " dense_2 (Dense)             (None, 128)               8320      \n",
            "                                                                 \n",
            " dropout_3 (Dropout)         (None, 128)               0         \n",
            "                                                                 \n",
            " dense_3 (Dense)             (None, 1)                 129       \n",
            "                                                                 \n",
            "=================================================================\n",
            "Total params: 8769 (34.25 KB)\n",
            "Trainable params: 8769 (34.25 KB)\n",
            "Non-trainable params: 0 (0.00 Byte)\n",
            "_________________________________________________________________\n",
            "Epoch 1/100\n",
            "5/5 [==============================] - 2s 137ms/step - loss: 0.6962 - accuracy: 0.5946 - val_loss: 0.6750 - val_accuracy: 0.7000\n",
            "Epoch 2/100\n",
            "5/5 [==============================] - 0s 23ms/step - loss: 0.6727 - accuracy: 0.6757 - val_loss: 0.6470 - val_accuracy: 0.8000\n",
            "Epoch 3/100\n",
            "5/5 [==============================] - 0s 23ms/step - loss: 0.6361 - accuracy: 0.7838 - val_loss: 0.6196 - val_accuracy: 0.8000\n",
            "Epoch 4/100\n",
            "5/5 [==============================] - 0s 37ms/step - loss: 0.6407 - accuracy: 0.7297 - val_loss: 0.5971 - val_accuracy: 0.8000\n",
            "Epoch 5/100\n",
            "5/5 [==============================] - 0s 21ms/step - loss: 0.6291 - accuracy: 0.7027 - val_loss: 0.5754 - val_accuracy: 0.8000\n",
            "Epoch 6/100\n",
            "5/5 [==============================] - 0s 29ms/step - loss: 0.6147 - accuracy: 0.7297 - val_loss: 0.5610 - val_accuracy: 0.8000\n",
            "Epoch 7/100\n",
            "5/5 [==============================] - 0s 59ms/step - loss: 0.5725 - accuracy: 0.7027 - val_loss: 0.5456 - val_accuracy: 0.8000\n",
            "Epoch 8/100\n",
            "5/5 [==============================] - 0s 37ms/step - loss: 0.5653 - accuracy: 0.7838 - val_loss: 0.5298 - val_accuracy: 0.8000\n",
            "Epoch 9/100\n",
            "5/5 [==============================] - 0s 57ms/step - loss: 0.5756 - accuracy: 0.6757 - val_loss: 0.5133 - val_accuracy: 0.8000\n",
            "Epoch 10/100\n",
            "5/5 [==============================] - 0s 34ms/step - loss: 0.5567 - accuracy: 0.7838 - val_loss: 0.4982 - val_accuracy: 0.8000\n",
            "Epoch 11/100\n",
            "5/5 [==============================] - 0s 39ms/step - loss: 0.5803 - accuracy: 0.7297 - val_loss: 0.4838 - val_accuracy: 0.8000\n",
            "Epoch 12/100\n",
            "5/5 [==============================] - 0s 26ms/step - loss: 0.5762 - accuracy: 0.7297 - val_loss: 0.4720 - val_accuracy: 0.8000\n",
            "Epoch 13/100\n",
            "5/5 [==============================] - 0s 62ms/step - loss: 0.6249 - accuracy: 0.7027 - val_loss: 0.4624 - val_accuracy: 0.8000\n",
            "Epoch 14/100\n",
            "5/5 [==============================] - 0s 75ms/step - loss: 0.5541 - accuracy: 0.7297 - val_loss: 0.4579 - val_accuracy: 0.9000\n",
            "Epoch 15/100\n",
            "5/5 [==============================] - 0s 30ms/step - loss: 0.5569 - accuracy: 0.7568 - val_loss: 0.4523 - val_accuracy: 1.0000\n",
            "Epoch 16/100\n",
            "5/5 [==============================] - 0s 49ms/step - loss: 0.5696 - accuracy: 0.7297 - val_loss: 0.4468 - val_accuracy: 1.0000\n",
            "Epoch 17/100\n",
            "5/5 [==============================] - 0s 38ms/step - loss: 0.5924 - accuracy: 0.7027 - val_loss: 0.4420 - val_accuracy: 1.0000\n",
            "Epoch 18/100\n",
            "5/5 [==============================] - 0s 50ms/step - loss: 0.6174 - accuracy: 0.6757 - val_loss: 0.4404 - val_accuracy: 1.0000\n",
            "Epoch 19/100\n",
            "5/5 [==============================] - 0s 27ms/step - loss: 0.5629 - accuracy: 0.7838 - val_loss: 0.4348 - val_accuracy: 1.0000\n",
            "Epoch 20/100\n",
            "5/5 [==============================] - 0s 37ms/step - loss: 0.5724 - accuracy: 0.7568 - val_loss: 0.4300 - val_accuracy: 1.0000\n",
            "Epoch 21/100\n",
            "5/5 [==============================] - 0s 56ms/step - loss: 0.5818 - accuracy: 0.7027 - val_loss: 0.4294 - val_accuracy: 1.0000\n",
            "Epoch 22/100\n",
            "5/5 [==============================] - 0s 31ms/step - loss: 0.5631 - accuracy: 0.6757 - val_loss: 0.4225 - val_accuracy: 1.0000\n",
            "Epoch 23/100\n",
            "5/5 [==============================] - 0s 31ms/step - loss: 0.6026 - accuracy: 0.6757 - val_loss: 0.4191 - val_accuracy: 1.0000\n",
            "Epoch 24/100\n",
            "5/5 [==============================] - 0s 44ms/step - loss: 0.5937 - accuracy: 0.7568 - val_loss: 0.4173 - val_accuracy: 1.0000\n",
            "Epoch 25/100\n",
            "5/5 [==============================] - 0s 59ms/step - loss: 0.5698 - accuracy: 0.7568 - val_loss: 0.4163 - val_accuracy: 1.0000\n",
            "Epoch 26/100\n",
            "5/5 [==============================] - 0s 36ms/step - loss: 0.5778 - accuracy: 0.7297 - val_loss: 0.4158 - val_accuracy: 1.0000\n",
            "Epoch 27/100\n",
            "5/5 [==============================] - 0s 25ms/step - loss: 0.5793 - accuracy: 0.6757 - val_loss: 0.4192 - val_accuracy: 1.0000\n",
            "Epoch 28/100\n",
            "5/5 [==============================] - 0s 28ms/step - loss: 0.5757 - accuracy: 0.7568 - val_loss: 0.4193 - val_accuracy: 1.0000\n",
            "Epoch 29/100\n",
            "5/5 [==============================] - 0s 20ms/step - loss: 0.5423 - accuracy: 0.7297 - val_loss: 0.4211 - val_accuracy: 1.0000\n",
            "Epoch 30/100\n",
            "5/5 [==============================] - 0s 30ms/step - loss: 0.5634 - accuracy: 0.7027 - val_loss: 0.4168 - val_accuracy: 1.0000\n",
            "Epoch 31/100\n",
            "5/5 [==============================] - 0s 39ms/step - loss: 0.5611 - accuracy: 0.7568 - val_loss: 0.4121 - val_accuracy: 1.0000\n",
            "Epoch 32/100\n",
            "5/5 [==============================] - 0s 21ms/step - loss: 0.5998 - accuracy: 0.7027 - val_loss: 0.4088 - val_accuracy: 1.0000\n",
            "Epoch 33/100\n",
            "5/5 [==============================] - 0s 23ms/step - loss: 0.6125 - accuracy: 0.7297 - val_loss: 0.4104 - val_accuracy: 1.0000\n",
            "Epoch 34/100\n",
            "5/5 [==============================] - 0s 16ms/step - loss: 0.5916 - accuracy: 0.6486 - val_loss: 0.4085 - val_accuracy: 1.0000\n",
            "Epoch 35/100\n",
            "5/5 [==============================] - 0s 19ms/step - loss: 0.5753 - accuracy: 0.7568 - val_loss: 0.4070 - val_accuracy: 1.0000\n",
            "Epoch 36/100\n",
            "5/5 [==============================] - 0s 25ms/step - loss: 0.5460 - accuracy: 0.7568 - val_loss: 0.4059 - val_accuracy: 1.0000\n",
            "Epoch 37/100\n",
            "5/5 [==============================] - 0s 25ms/step - loss: 0.5516 - accuracy: 0.8108 - val_loss: 0.4022 - val_accuracy: 1.0000\n",
            "Epoch 38/100\n",
            "5/5 [==============================] - 0s 31ms/step - loss: 0.5359 - accuracy: 0.7568 - val_loss: 0.3944 - val_accuracy: 1.0000\n",
            "Epoch 39/100\n",
            "5/5 [==============================] - 0s 27ms/step - loss: 0.5521 - accuracy: 0.7027 - val_loss: 0.3842 - val_accuracy: 1.0000\n",
            "Epoch 40/100\n",
            "5/5 [==============================] - 0s 29ms/step - loss: 0.5458 - accuracy: 0.7568 - val_loss: 0.3820 - val_accuracy: 1.0000\n",
            "Epoch 41/100\n",
            "5/5 [==============================] - 0s 37ms/step - loss: 0.5677 - accuracy: 0.7027 - val_loss: 0.3759 - val_accuracy: 1.0000\n",
            "Epoch 42/100\n",
            "5/5 [==============================] - 0s 47ms/step - loss: 0.5635 - accuracy: 0.7568 - val_loss: 0.3728 - val_accuracy: 1.0000\n",
            "Epoch 43/100\n",
            "5/5 [==============================] - 0s 31ms/step - loss: 0.5339 - accuracy: 0.7297 - val_loss: 0.3740 - val_accuracy: 1.0000\n",
            "Epoch 44/100\n",
            "5/5 [==============================] - 0s 32ms/step - loss: 0.5368 - accuracy: 0.7297 - val_loss: 0.3739 - val_accuracy: 1.0000\n",
            "Epoch 45/100\n",
            "5/5 [==============================] - 0s 40ms/step - loss: 0.5051 - accuracy: 0.7568 - val_loss: 0.3736 - val_accuracy: 1.0000\n",
            "Epoch 46/100\n",
            "5/5 [==============================] - 0s 55ms/step - loss: 0.5432 - accuracy: 0.7297 - val_loss: 0.3727 - val_accuracy: 1.0000\n",
            "Epoch 47/100\n",
            "5/5 [==============================] - 0s 28ms/step - loss: 0.5609 - accuracy: 0.7297 - val_loss: 0.3719 - val_accuracy: 1.0000\n",
            "Epoch 48/100\n",
            "5/5 [==============================] - 0s 28ms/step - loss: 0.5567 - accuracy: 0.7027 - val_loss: 0.3717 - val_accuracy: 0.8000\n",
            "Epoch 49/100\n",
            "5/5 [==============================] - 0s 45ms/step - loss: 0.5124 - accuracy: 0.7568 - val_loss: 0.3681 - val_accuracy: 0.8000\n",
            "Epoch 50/100\n",
            "5/5 [==============================] - 0s 27ms/step - loss: 0.5363 - accuracy: 0.7568 - val_loss: 0.3660 - val_accuracy: 1.0000\n",
            "Epoch 51/100\n",
            "5/5 [==============================] - 0s 34ms/step - loss: 0.5299 - accuracy: 0.7297 - val_loss: 0.3618 - val_accuracy: 1.0000\n",
            "Epoch 52/100\n",
            "5/5 [==============================] - 0s 37ms/step - loss: 0.5329 - accuracy: 0.7568 - val_loss: 0.3521 - val_accuracy: 1.0000\n",
            "Epoch 53/100\n",
            "5/5 [==============================] - 0s 34ms/step - loss: 0.5287 - accuracy: 0.7297 - val_loss: 0.3435 - val_accuracy: 1.0000\n",
            "Epoch 54/100\n",
            "5/5 [==============================] - 0s 48ms/step - loss: 0.5266 - accuracy: 0.7568 - val_loss: 0.3395 - val_accuracy: 1.0000\n",
            "Epoch 55/100\n",
            "5/5 [==============================] - 0s 24ms/step - loss: 0.5619 - accuracy: 0.7568 - val_loss: 0.3406 - val_accuracy: 1.0000\n",
            "Epoch 56/100\n",
            "5/5 [==============================] - 0s 25ms/step - loss: 0.4913 - accuracy: 0.7838 - val_loss: 0.3388 - val_accuracy: 1.0000\n",
            "Epoch 57/100\n",
            "5/5 [==============================] - 0s 21ms/step - loss: 0.4988 - accuracy: 0.8108 - val_loss: 0.3300 - val_accuracy: 1.0000\n",
            "Epoch 58/100\n",
            "5/5 [==============================] - 0s 38ms/step - loss: 0.5308 - accuracy: 0.7568 - val_loss: 0.3294 - val_accuracy: 1.0000\n",
            "Epoch 59/100\n",
            "5/5 [==============================] - 0s 32ms/step - loss: 0.5167 - accuracy: 0.7838 - val_loss: 0.3242 - val_accuracy: 1.0000\n",
            "Epoch 60/100\n",
            "5/5 [==============================] - 0s 20ms/step - loss: 0.4951 - accuracy: 0.8108 - val_loss: 0.3211 - val_accuracy: 1.0000\n",
            "Epoch 61/100\n",
            "5/5 [==============================] - 0s 33ms/step - loss: 0.4994 - accuracy: 0.7568 - val_loss: 0.3095 - val_accuracy: 1.0000\n",
            "Epoch 62/100\n",
            "5/5 [==============================] - 0s 40ms/step - loss: 0.5592 - accuracy: 0.7297 - val_loss: 0.3079 - val_accuracy: 1.0000\n",
            "Epoch 63/100\n",
            "5/5 [==============================] - 0s 42ms/step - loss: 0.5114 - accuracy: 0.7838 - val_loss: 0.3055 - val_accuracy: 1.0000\n",
            "Epoch 64/100\n",
            "5/5 [==============================] - 0s 50ms/step - loss: 0.5047 - accuracy: 0.7568 - val_loss: 0.3068 - val_accuracy: 1.0000\n",
            "Epoch 65/100\n",
            "5/5 [==============================] - 0s 42ms/step - loss: 0.5597 - accuracy: 0.7568 - val_loss: 0.3178 - val_accuracy: 1.0000\n",
            "Epoch 66/100\n",
            "5/5 [==============================] - 0s 19ms/step - loss: 0.5441 - accuracy: 0.7027 - val_loss: 0.3231 - val_accuracy: 0.9000\n",
            "Epoch 67/100\n",
            "5/5 [==============================] - 0s 22ms/step - loss: 0.5284 - accuracy: 0.7568 - val_loss: 0.3265 - val_accuracy: 0.8000\n",
            "Epoch 68/100\n",
            "5/5 [==============================] - 0s 30ms/step - loss: 0.5027 - accuracy: 0.8108 - val_loss: 0.3227 - val_accuracy: 0.8000\n",
            "Epoch 69/100\n",
            "5/5 [==============================] - 0s 50ms/step - loss: 0.4774 - accuracy: 0.8108 - val_loss: 0.3207 - val_accuracy: 0.8000\n",
            "Epoch 70/100\n",
            "5/5 [==============================] - 0s 49ms/step - loss: 0.5378 - accuracy: 0.7568 - val_loss: 0.3220 - val_accuracy: 0.8000\n",
            "Epoch 71/100\n",
            "5/5 [==============================] - 0s 40ms/step - loss: 0.5484 - accuracy: 0.7568 - val_loss: 0.3093 - val_accuracy: 0.9000\n",
            "Epoch 72/100\n",
            "5/5 [==============================] - 0s 66ms/step - loss: 0.5162 - accuracy: 0.7838 - val_loss: 0.2991 - val_accuracy: 1.0000\n",
            "Epoch 73/100\n",
            "5/5 [==============================] - 0s 32ms/step - loss: 0.5413 - accuracy: 0.7027 - val_loss: 0.2971 - val_accuracy: 1.0000\n",
            "Epoch 74/100\n",
            "5/5 [==============================] - 0s 45ms/step - loss: 0.5592 - accuracy: 0.7027 - val_loss: 0.2971 - val_accuracy: 1.0000\n",
            "Epoch 75/100\n",
            "5/5 [==============================] - 0s 34ms/step - loss: 0.5654 - accuracy: 0.6757 - val_loss: 0.2927 - val_accuracy: 1.0000\n",
            "Epoch 76/100\n",
            "5/5 [==============================] - 0s 27ms/step - loss: 0.5101 - accuracy: 0.7568 - val_loss: 0.2959 - val_accuracy: 1.0000\n",
            "Epoch 77/100\n",
            "5/5 [==============================] - 0s 46ms/step - loss: 0.5035 - accuracy: 0.7568 - val_loss: 0.3120 - val_accuracy: 0.9000\n",
            "Epoch 78/100\n",
            "5/5 [==============================] - 0s 25ms/step - loss: 0.5152 - accuracy: 0.7838 - val_loss: 0.3141 - val_accuracy: 0.9000\n",
            "Epoch 79/100\n",
            "5/5 [==============================] - 0s 40ms/step - loss: 0.4831 - accuracy: 0.7838 - val_loss: 0.3228 - val_accuracy: 0.9000\n",
            "Epoch 80/100\n",
            "5/5 [==============================] - 0s 27ms/step - loss: 0.4715 - accuracy: 0.7838 - val_loss: 0.3232 - val_accuracy: 0.9000\n",
            "Epoch 81/100\n",
            "5/5 [==============================] - 0s 38ms/step - loss: 0.5083 - accuracy: 0.7568 - val_loss: 0.3327 - val_accuracy: 0.8000\n",
            "Epoch 82/100\n",
            "5/5 [==============================] - 0s 34ms/step - loss: 0.5137 - accuracy: 0.8108 - val_loss: 0.3194 - val_accuracy: 0.9000\n",
            "Epoch 83/100\n",
            "5/5 [==============================] - 0s 42ms/step - loss: 0.4762 - accuracy: 0.8378 - val_loss: 0.3103 - val_accuracy: 0.9000\n",
            "Epoch 84/100\n",
            "5/5 [==============================] - 0s 53ms/step - loss: 0.5148 - accuracy: 0.7297 - val_loss: 0.3031 - val_accuracy: 0.9000\n",
            "Epoch 85/100\n",
            "5/5 [==============================] - 0s 30ms/step - loss: 0.4777 - accuracy: 0.7838 - val_loss: 0.2979 - val_accuracy: 0.9000\n",
            "Epoch 86/100\n",
            "5/5 [==============================] - 0s 32ms/step - loss: 0.4620 - accuracy: 0.8108 - val_loss: 0.3061 - val_accuracy: 0.8000\n",
            "Epoch 87/100\n",
            "5/5 [==============================] - 0s 31ms/step - loss: 0.4623 - accuracy: 0.7568 - val_loss: 0.3106 - val_accuracy: 0.8000\n",
            "Epoch 88/100\n",
            "5/5 [==============================] - 0s 33ms/step - loss: 0.4842 - accuracy: 0.7838 - val_loss: 0.3048 - val_accuracy: 0.8000\n",
            "Epoch 89/100\n",
            "5/5 [==============================] - 0s 28ms/step - loss: 0.4757 - accuracy: 0.7568 - val_loss: 0.2980 - val_accuracy: 0.9000\n",
            "Epoch 90/100\n",
            "5/5 [==============================] - 0s 24ms/step - loss: 0.4855 - accuracy: 0.7568 - val_loss: 0.2979 - val_accuracy: 0.9000\n",
            "Epoch 91/100\n",
            "5/5 [==============================] - 0s 25ms/step - loss: 0.4627 - accuracy: 0.8378 - val_loss: 0.2945 - val_accuracy: 0.9000\n",
            "Epoch 92/100\n",
            "5/5 [==============================] - 0s 54ms/step - loss: 0.5017 - accuracy: 0.7568 - val_loss: 0.2937 - val_accuracy: 0.9000\n",
            "Epoch 93/100\n",
            "5/5 [==============================] - 0s 39ms/step - loss: 0.5158 - accuracy: 0.7568 - val_loss: 0.3082 - val_accuracy: 0.9000\n",
            "Epoch 94/100\n",
            "5/5 [==============================] - 0s 39ms/step - loss: 0.4604 - accuracy: 0.8108 - val_loss: 0.3135 - val_accuracy: 0.9000\n",
            "Epoch 95/100\n",
            "5/5 [==============================] - 0s 44ms/step - loss: 0.4639 - accuracy: 0.8108 - val_loss: 0.3209 - val_accuracy: 0.8000\n",
            "Epoch 96/100\n",
            "5/5 [==============================] - 0s 31ms/step - loss: 0.5047 - accuracy: 0.7568 - val_loss: 0.3155 - val_accuracy: 0.9000\n",
            "Epoch 97/100\n",
            "5/5 [==============================] - 0s 35ms/step - loss: 0.4687 - accuracy: 0.8108 - val_loss: 0.2911 - val_accuracy: 0.9000\n",
            "Epoch 98/100\n",
            "5/5 [==============================] - 0s 41ms/step - loss: 0.4514 - accuracy: 0.8108 - val_loss: 0.2783 - val_accuracy: 0.9000\n",
            "Epoch 99/100\n",
            "5/5 [==============================] - 0s 30ms/step - loss: 0.5368 - accuracy: 0.7297 - val_loss: 0.2825 - val_accuracy: 0.9000\n",
            "Epoch 100/100\n",
            "5/5 [==============================] - 0s 21ms/step - loss: 0.4436 - accuracy: 0.7838 - val_loss: 0.2996 - val_accuracy: 0.9000\n",
            "1/1 [==============================] - 0s 77ms/step - loss: 0.5207 - accuracy: 0.8333\n",
            "Test Accuracy: 0.83\n"
          ]
        },
        {
          "output_type": "display_data",
          "data": {
            "text/plain": [
              "<Figure size 1200x400 with 2 Axes>"
            ],
            "image/png": "[encoded data removed]"
          },
          "metadata": {}
        }
      ]
    },
    {
      "cell_type": "code",
      "source": [
        "ls content/audio-shorts/"
      ],
      "metadata": {
        "colab": {
          "base_uri": "https://localhost:8080/"
        },
        "id": "oufXEpugm-6O",
        "outputId": "4ee1a0ce-994d-45fc-f1e5-84e5f0060b48"
      },
      "execution_count": 87,
      "outputs": [
        {
          "output_type": "stream",
          "name": "stdout",
          "text": [
            "\u001b[0m\u001b[01;34mAibolit_33_parts\u001b[0m/  \u001b[01;34maudio-files\u001b[0m/  audio_files.json  README.md  \u001b[01;34mTelefon_59_parts\u001b[0m/\n"
          ]
        }
      ]
    },
    {
      "cell_type": "markdown",
      "source": [
        "#Random Forest Model Training\n",
        "\n",
        "> Add blockquote\n",
        "\n",
        "\n"
      ],
      "metadata": {
        "id": "slo7EN7fK_PS"
      }
    },
    {
      "cell_type": "code",
      "source": [
        "from sklearn.ensemble import RandomForestClassifier\n",
        "from sklearn.model_selection import train_test_split\n",
        "from sklearn.preprocessing import StandardScaler\n",
        "from sklearn.metrics import accuracy_score, classification_report\n",
        "\n",
        "# Flatten the features for Random Forest (from 3x3 to 9 features)\n",
        "features_flat = features.reshape(features.shape[0], -1)\n",
        "\n",
        "# Normalize the features\n",
        "scaler = StandardScaler()\n",
        "features_normalized = scaler.fit_transform(features_flat)\n",
        "\n",
        "# Convert labels to binary format (0 for 'A', 1 for 'B')\n",
        "binary_labels = (labels == 'B').astype(int)\n",
        "\n",
        "# Split the data into training and testing sets\n",
        "X_train, X_test, y_train, y_test = train_test_split(features_normalized, binary_labels, test_size=0.2, random_state=42)\n",
        "\n",
        "# Create and train the Random Forest model\n",
        "rf_model = RandomForestClassifier(n_estimators=100, random_state=42)\n",
        "rf_model.fit(X_train, y_train)\n",
        "\n",
        "# Predict on the test set\n",
        "y_pred = rf_model.predict(X_test)\n",
        "\n",
        "# Evaluate the model\n",
        "test_accuracy = accuracy_score(y_test, y_pred)\n",
        "print(f\"Test Accuracy: {test_accuracy:.2f}\")\n",
        "\n",
        "# Print detailed classification report\n",
        "print(\"Classification Report:\")\n",
        "print(classification_report(y_test, y_pred))\n",
        "\n",
        "# Plot feature importances\n",
        "import matplotlib.pyplot as plt\n",
        "import numpy as np\n",
        "\n",
        "feature_importances = rf_model.feature_importances_\n",
        "feature_names = [\n",
        "    'Pitch Mean', 'Pitch Range', 'Pitch Variance',\n",
        "    'Spectral Centroid Mean', 'Spectral Centroid Range', 'Spectral Centroid Variance',\n",
        "    'ZCR Mean', 'ZCR Range', 'ZCR Variance'\n",
        "]\n",
        "\n",
        "indices = np.argsort(feature_importances)\n",
        "\n",
        "plt.figure(figsize=(10, 6))\n",
        "plt.title('Feature Importances')\n",
        "plt.barh(range(len(indices)), feature_importances[indices], color='b', align='center')\n",
        "plt.yticks(range(len(indices)), [feature_names[i] for i in indices])\n",
        "plt.xlabel('Relative Importance')\n",
        "plt.show()\n"
      ],
      "metadata": {
        "colab": {
          "base_uri": "https://localhost:8080/",
          "height": 755
        },
        "id": "AYJfcyNQqUu3",
        "outputId": "57603aa8-0a08-4eab-8f1f-3ef7996389a5"
      },
      "execution_count": 88,
      "outputs": [
        {
          "output_type": "stream",
          "name": "stdout",
          "text": [
            "Test Accuracy: 0.83\n",
            "Classification Report:\n",
            "              precision    recall  f1-score   support\n",
            "\n",
            "           0       1.00      0.33      0.50         3\n",
            "           1       0.82      1.00      0.90         9\n",
            "\n",
            "    accuracy                           0.83        12\n",
            "   macro avg       0.91      0.67      0.70        12\n",
            "weighted avg       0.86      0.83      0.80        12\n",
            "\n"
          ]
        },
        {
          "output_type": "display_data",
          "data": {
            "text/plain": [
              "<Figure size 1000x600 with 1 Axes>"
            ],
            "image/png": "[encoded data removed]"
          },
          "metadata": {}
        }
      ]
    },
    {
      "cell_type": "markdown",
      "source": [],
      "metadata": {
        "id": "9s0z0AfZ7m1F"
      }
    },
    {
      "cell_type": "markdown",
      "source": [
        "#Save the models"
      ],
      "metadata": {
        "id": "haKu4ZFIS_su"
      }
    },
    {
      "cell_type": "code",
      "source": [
        "import pickle\n",
        "\n",
        "# Save the trained Random Forest model\n",
        "with open('random_forest_model.pkl', 'wb') as file:\n",
        "    pickle.dump(rf_model, file)\n",
        "print(\"Model saved to random_forest_model.pkl\")\n"
      ],
      "metadata": {
        "colab": {
          "base_uri": "https://localhost:8080/"
        },
        "id": "AAs0GFNhrqmp",
        "outputId": "655b070b-6322-4345-9e9d-fde4232019b2"
      },
      "execution_count": 89,
      "outputs": [
        {
          "output_type": "stream",
          "name": "stdout",
          "text": [
            "Model saved to random_forest_model.pkl\n"
          ]
        }
      ]
    },
    {
      "cell_type": "code",
      "source": [
        "# Save the trained model\n",
        "cnn_model.save('cnn_model.h5')\n",
        "print(\"Model saved to cnn_model.h5\")"
      ],
      "metadata": {
        "id": "7vjGXDUFRNO6",
        "colab": {
          "base_uri": "https://localhost:8080/"
        },
        "outputId": "310101fd-a1fa-4fa5-8f66-7fb60c9637dd"
      },
      "execution_count": 90,
      "outputs": [
        {
          "output_type": "stream",
          "name": "stdout",
          "text": [
            "Model saved to cnn_model.h5\n"
          ]
        },
        {
          "output_type": "stream",
          "name": "stderr",
          "text": [
            "/usr/local/lib/python3.10/dist-packages/keras/src/engine/training.py:3103: UserWarning: You are saving your model as an HDF5 file via `model.save()`. This file format is considered legacy. We recommend using instead the native Keras format, e.g. `model.save('my_model.keras')`.\n",
            "  saving_api.save_model(\n"
          ]
        }
      ]
    },
    {
      "cell_type": "markdown",
      "source": [
        "<hr>"
      ],
      "metadata": {
        "id": "FZEwaAdx1QZ1"
      }
    },
    {
      "cell_type": "markdown",
      "source": [
        "ls"
      ],
      "metadata": {
        "id": "2Qq1Ws8XkNEm"
      }
    },
    {
      "cell_type": "markdown",
      "source": [
        "#Checking the models with another 33 files"
      ],
      "metadata": {
        "id": "1NMRUb_BOLH1"
      }
    },
    {
      "cell_type": "code",
      "source": [
        "ls content/audio-shorts/Aibolit_33_parts\n"
      ],
      "metadata": {
        "colab": {
          "base_uri": "https://localhost:8080/"
        },
        "id": "V2ZTrxjdNt2Q",
        "outputId": "f70b3b17-0a7e-4422-a268-b9736674bac6"
      },
      "execution_count": 91,
      "outputs": [
        {
          "output_type": "stream",
          "name": "stdout",
          "text": [
            "aibolit_01_B.wav  aibolit_08_B.wav  aibolit_15_A.wav  aibolit_22_B.wav  aibolit_29_B.wav\n",
            "aibolit_02_B.wav  aibolit_09_A.wav  aibolit_16_B.wav  aibolit_23_A.wav  aibolit_30_B.wav\n",
            "aibolit_03_B.wav  aibolit_10_B.wav  aibolit_17_B.wav  aibolit_24_B.wav  aibolit_31_B.wav\n",
            "aibolit_04_B.wav  aibolit_11_B.wav  aibolit_18_A.wav  aibolit_25_A.wav  aibolit_32_B.wav\n",
            "aibolit_05_B.wav  aibolit_12_B.wav  aibolit_19_B.wav  aibolit_26_B.wav  aibolit_33_B.wav\n",
            "aibolit_06_B.wav  aibolit_13_B.wav  aibolit_20_B.wav  aibolit_27_A.wav  aibolit_orig.info_\n",
            "aibolit_07_A.wav  aibolit_14_B.wav  aibolit_21_B.wav  aibolit_28_B.wav\n"
          ]
        }
      ]
    },
    {
      "cell_type": "markdown",
      "source": [],
      "metadata": {
        "id": "RcWGVAeWU52h"
      }
    },
    {
      "cell_type": "code",
      "source": [
        "directory = 'content/audio-shorts/Aibolit_33_parts/'"
      ],
      "metadata": {
        "id": "TnJcjoOLTtH_"
      },
      "execution_count": 96,
      "outputs": []
    },
    {
      "cell_type": "code",
      "source": [
        "import librosa\n",
        "import numpy as np\n",
        "import os\n",
        "\n",
        "def extract_featuresAAA(filename):\n",
        "    # Load audio file\n",
        "    y, sample_rate = librosa.load(filename)\n",
        "    # print('File: ', filename)\n",
        "\n",
        "    # Feature 1: Pitch (using librosa's piptrack)\n",
        "    pitches, magnitudes = librosa.piptrack(y=y, sr=sample_rate)\n",
        "\n",
        "    # Mask to extract pitches where magnitudes are above a threshold\n",
        "    mask = magnitudes > np.median(magnitudes)\n",
        "    filtered_pitches = pitches[mask]\n",
        "\n",
        "    # Calculate pitch features\n",
        "    pitch_mean = np.mean(filtered_pitches)\n",
        "    pitch_range = np.max(filtered_pitches) - np.min(filtered_pitches)\n",
        "    pitch_variance = np.var(filtered_pitches)\n",
        "\n",
        "    # Combine all pitch features into a single array\n",
        "    pitch_features = [pitch_mean, pitch_range, pitch_variance]\n",
        "\n",
        "    # Feature 2: Spectral Centroid\n",
        "    spectral_centroids = librosa.feature.spectral_centroid(y=y, sr=sample_rate)\n",
        "    spectral_centroid_mean = np.mean(spectral_centroids)\n",
        "    spectral_centroid_range = np.max(spectral_centroids) - np.min(spectral_centroids)\n",
        "    spectral_centroid_variance = np.var(spectral_centroids)\n",
        "\n",
        "    # Combine all spectral centroid features into a single array\n",
        "    spectral_centroid_features = [spectral_centroid_mean, spectral_centroid_range, spectral_centroid_variance]\n",
        "\n",
        "    # Feature 3: Zero Crossing Rate\n",
        "    zero_crossings = librosa.feature.zero_crossing_rate(y)\n",
        "    zcr_mean = np.mean(zero_crossings)\n",
        "    zcr_range = np.max(zero_crossings) - np.min(zero_crossings)\n",
        "    zcr_variance = np.var(zero_crossings)\n",
        "\n",
        "    # Combine all zero crossing rate features into a single array\n",
        "    zcr_features = [zcr_mean, zcr_range, zcr_variance]\n",
        "\n",
        "    # Combine all features into a single array and reshape to 3x3 matrix\n",
        "    features = pitch_features + spectral_centroid_features + zcr_features\n",
        "    features_matrix = np.array(features).reshape(3, 3)\n",
        "\n",
        "    features_matrix_rows_names = [\n",
        "        'feature1: Pitch',\n",
        "        'feature2: Spectral Centroid',\n",
        "        'feature3: Zero Crossing Rate'\n",
        "    ]\n",
        "\n",
        "    features_matrix_column_names = [\n",
        "        ['pitch_mean', 'pitch_range', 'pitch_variance'],\n",
        "        ['spectral_centroid_mean', 'spectral_centroid_range', 'spectral_centroid_variance'],\n",
        "        ['zcr_mean', 'zcr_range', 'zcr_variance']\n",
        "    ]\n",
        "\n",
        "    return features_matrix, features_matrix_rows_names, features_matrix_column_names\n",
        "\n",
        "# Create the Model's data\n",
        "features = []\n",
        "labels = []\n",
        "\n",
        "for filename in os.listdir(directory):\n",
        "    if filename.endswith('.wav'):\n",
        "        file_path = os.path.join(directory, filename)\n",
        "        features_matrix, features_matrix_rows_names, features_matrix_column_names = extract_featuresAAA(file_path)\n",
        "\n",
        "        feature_values = features_matrix\n",
        "\n",
        "        # Extract label from the filename\n",
        "        if 'A' in filename:\n",
        "            label = 'A'\n",
        "        elif 'B' in filename:\n",
        "            label = 'B'\n",
        "        else:\n",
        "            label = 'Unknown'  # Handle unexpected cases\n",
        "        # Append features and label separately\n",
        "        features.append(feature_values)\n",
        "        labels.append(label)\n",
        "\n",
        "# Convert features and labels to numpy arrays\n",
        "features = np.array(features)\n",
        "labels = np.array(labels)\n",
        "\n",
        "# Example to print the features and labels\n",
        "print('Features: ', features)\n",
        "print('Features shape: ', features.shape)\n",
        "print('Labels: ', labels)\n"
      ],
      "metadata": {
        "colab": {
          "base_uri": "https://localhost:8080/"
        },
        "id": "2o83NgGFTfcO",
        "outputId": "41bf180c-b0f9-4f2c-e330-be3c6e4e494b"
      },
      "execution_count": 97,
      "outputs": [
        {
          "output_type": "stream",
          "name": "stdout",
          "text": [
            "Features:  [[[1.78026025e+03 3.85027026e+03 1.37574700e+06]\n",
            "  [1.89929597e+03 4.05489767e+03 7.60253048e+05]\n",
            "  [1.24176258e-01 4.63867188e-01 1.01154199e-02]]\n",
            "\n",
            " [[1.78494434e+03 3.85426343e+03 1.21469450e+06]\n",
            "  [1.90116984e+03 4.31042189e+03 5.15617638e+05]\n",
            "  [1.15212868e-01 5.39550781e-01 7.11379269e-03]]\n",
            "\n",
            " [[1.75746094e+03 3.85381055e+03 1.37811725e+06]\n",
            "  [2.00229713e+03 5.68212014e+03 1.19144102e+06]\n",
            "  [1.31392630e-01 6.05468750e-01 1.51041501e-02]]\n",
            "\n",
            " [[1.52653027e+03 3.85217480e+03 1.37887150e+06]\n",
            "  [1.64368238e+03 4.29143104e+03 4.77556532e+05]\n",
            "  [9.00984748e-02 4.40429688e-01 4.35508217e-03]]\n",
            "\n",
            " [[1.73269495e+03 3.85405713e+03 1.40193450e+06]\n",
            "  [1.94689100e+03 4.45058263e+03 9.67003702e+05]\n",
            "  [1.27896301e-01 5.08300781e-01 1.29615883e-02]]\n",
            "\n",
            " [[1.60565417e+03 3.85232520e+03 1.30460375e+06]\n",
            "  [1.71527942e+03 4.29796145e+03 4.53528675e+05]\n",
            "  [9.75207461e-02 4.37500000e-01 4.38175084e-03]]\n",
            "\n",
            " [[1.76829199e+03 3.85317529e+03 1.26043650e+06]\n",
            "  [1.92524861e+03 4.19789081e+03 6.28825265e+05]\n",
            "  [1.23272602e-01 4.60937500e-01 7.69294380e-03]]\n",
            "\n",
            " [[1.52411414e+03 3.85373682e+03 1.30648462e+06]\n",
            "  [1.63653438e+03 4.33770756e+03 5.49984914e+05]\n",
            "  [9.58904271e-02 4.50195312e-01 5.26807852e-03]]\n",
            "\n",
            " [[1.77313013e+03 3.85343359e+03 1.48077538e+06]\n",
            "  [1.98368647e+03 4.66489390e+03 8.82441187e+05]\n",
            "  [1.25663426e-01 5.14648438e-01 1.06566404e-02]]\n",
            "\n",
            " [[1.77305627e+03 3.85373975e+03 1.36879588e+06]\n",
            "  [1.87638119e+03 4.44738728e+03 8.32590260e+05]\n",
            "  [1.18915708e-01 4.75585938e-01 9.43778860e-03]]\n",
            "\n",
            " [[1.40336511e+03 3.84861377e+03 1.20659562e+06]\n",
            "  [1.43916820e+03 3.11602580e+03 3.38969708e+05]\n",
            "  [7.47011306e-02 2.68066406e-01 2.19668935e-03]]\n",
            "\n",
            " [[1.50670972e+03 3.85373950e+03 1.16521800e+06]\n",
            "  [1.61257002e+03 4.75946107e+03 5.89694802e+05]\n",
            "  [1.01362982e-01 5.43457031e-01 6.53606504e-03]]\n",
            "\n",
            " [[1.69113513e+03 3.85314966e+03 1.37345238e+06]\n",
            "  [1.74466090e+03 4.22702696e+03 4.45580673e+05]\n",
            "  [1.02524236e-01 4.92675781e-01 4.89307828e-03]]\n",
            "\n",
            " [[1.70481726e+03 3.85353882e+03 1.19765825e+06]\n",
            "  [1.92627570e+03 4.08181489e+03 5.12062032e+05]\n",
            "  [1.24591281e-01 5.09765625e-01 6.76513996e-03]]\n",
            "\n",
            " [[1.54451538e+03 3.85439600e+03 1.28650950e+06]\n",
            "  [1.69489288e+03 4.32279760e+03 5.57543846e+05]\n",
            "  [9.89216383e-02 4.94628906e-01 6.09305449e-03]]\n",
            "\n",
            " [[1.53737744e+03 3.85383716e+03 1.26904150e+06]\n",
            "  [1.66803648e+03 4.47620722e+03 6.65752213e+05]\n",
            "  [9.98451494e-02 5.39062500e-01 8.52339450e-03]]\n",
            "\n",
            " [[1.74293726e+03 3.85439282e+03 1.37149125e+06]\n",
            "  [1.97165778e+03 4.48472129e+03 9.25861012e+05]\n",
            "  [1.30045974e-01 4.90722656e-01 1.16835441e-02]]\n",
            "\n",
            " [[1.66958057e+03 3.85321997e+03 1.28235438e+06]\n",
            "  [1.80365699e+03 4.56381518e+03 7.37778254e+05]\n",
            "  [1.09433487e-01 4.95117188e-01 8.91627508e-03]]\n",
            "\n",
            " [[1.46187744e+03 3.85223608e+03 1.18331850e+06]\n",
            "  [1.44400326e+03 3.69482134e+03 3.34982406e+05]\n",
            "  [7.72702049e-02 3.95996094e-01 2.83339387e-03]]\n",
            "\n",
            " [[1.79735034e+03 3.85113403e+03 1.47793175e+06]\n",
            "  [1.73284657e+03 3.14165546e+03 5.54981469e+05]\n",
            "  [9.27238260e-02 3.02246094e-01 5.12624051e-03]]\n",
            "\n",
            " [[1.58194202e+03 3.85359131e+03 1.32957200e+06]\n",
            "  [1.86065342e+03 4.30750107e+03 9.38551044e+05]\n",
            "  [1.19670868e-01 4.78027344e-01 1.29103252e-02]]\n",
            "\n",
            " [[1.63852502e+03 3.85250220e+03 1.30121250e+06]\n",
            "  [1.84141578e+03 4.48909643e+03 8.65023361e+05]\n",
            "  [1.18968791e-01 5.18066406e-01 1.08947877e-02]]\n",
            "\n",
            " [[1.59960620e+03 3.85387646e+03 1.34971638e+06]\n",
            "  [1.73812395e+03 4.43450438e+03 8.21281530e+05]\n",
            "  [1.14859778e-01 5.65917969e-01 1.04420274e-02]]\n",
            "\n",
            " [[1.74176392e+03 3.85163599e+03 1.43920438e+06]\n",
            "  [1.97485171e+03 4.17582957e+03 8.69423596e+05]\n",
            "  [1.19068620e-01 4.68750000e-01 1.04790528e-02]]\n",
            "\n",
            " [[1.74274951e+03 3.85363232e+03 1.47885675e+06]\n",
            "  [1.95136258e+03 4.43790804e+03 1.00132933e+06]\n",
            "  [1.13802771e-01 5.03906250e-01 1.11205460e-02]]\n",
            "\n",
            " [[1.64622131e+03 3.85395654e+03 1.27823162e+06]\n",
            "  [1.70172887e+03 3.78388125e+03 5.04379710e+05]\n",
            "  [1.03592130e-01 4.19433594e-01 5.92574949e-03]]\n",
            "\n",
            " [[1.68579504e+03 3.85393188e+03 1.21579625e+06]\n",
            "  [1.74954033e+03 3.97353332e+03 4.79059589e+05]\n",
            "  [1.05984189e-01 3.74511719e-01 4.78182008e-03]]\n",
            "\n",
            " [[1.73346790e+03 3.85435986e+03 1.43403212e+06]\n",
            "  [1.74439754e+03 4.20556074e+03 4.33564136e+05]\n",
            "  [9.73075713e-02 4.65332031e-01 3.91467949e-03]]\n",
            "\n",
            " [[1.65702905e+03 3.85422388e+03 1.32060500e+06]\n",
            "  [1.98174573e+03 4.75974002e+03 1.15837171e+06]\n",
            "  [1.32603561e-01 5.70800781e-01 1.53589688e-02]]\n",
            "\n",
            " [[1.71621545e+03 3.85222534e+03 1.43747900e+06]\n",
            "  [1.75845280e+03 4.47361913e+03 9.41415919e+05]\n",
            "  [1.12676136e-01 4.96582031e-01 1.03092966e-02]]\n",
            "\n",
            " [[1.49035693e+03 3.85352393e+03 1.11687550e+06]\n",
            "  [1.65401152e+03 4.02382569e+03 3.35239655e+05]\n",
            "  [9.59320357e-02 4.54589844e-01 3.32096066e-03]]\n",
            "\n",
            " [[1.41089795e+03 3.85323853e+03 1.22527550e+06]\n",
            "  [1.65171151e+03 4.18409095e+03 5.49418209e+05]\n",
            "  [9.47024923e-02 4.59960938e-01 6.00062064e-03]]\n",
            "\n",
            " [[1.51186292e+03 3.85393262e+03 1.32046775e+06]\n",
            "  [1.70415033e+03 4.70046721e+03 8.43258164e+05]\n",
            "  [1.01353620e-01 5.35644531e-01 9.69663839e-03]]]\n",
            "Features shape:  (33, 3, 3)\n",
            "Labels:  ['A' 'B' 'B' 'A' 'B' 'B' 'B' 'B' 'B' 'B' 'A' 'B' 'B' 'B' 'B' 'B' 'B' 'B'\n",
            " 'B' 'A' 'B' 'B' 'B' 'A' 'A' 'B' 'B' 'A' 'B' 'B' 'B' 'B' 'B']\n"
          ]
        }
      ]
    },
    {
      "cell_type": "markdown",
      "source": [],
      "metadata": {
        "id": "gPkXS63uU5ll"
      }
    },
    {
      "cell_type": "code",
      "source": [
        "import os\n",
        "import numpy as np\n",
        "from sklearn.metrics import accuracy_score, classification_report\n",
        "import pickle\n",
        "from tensorflow.keras.models import load_model\n",
        "\n",
        "# Function to extract features (you should have this function defined in your notebook)\n",
        "def extract_featuresAAA(filename):\n",
        "    # Load audio file\n",
        "    y, sample_rate = librosa.load(filename)\n",
        "\n",
        "    # Feature 1: Pitch (using librosa's piptrack)\n",
        "    pitches, magnitudes = librosa.piptrack(y=y, sr=sample_rate)\n",
        "    mask = magnitudes > np.median(magnitudes)\n",
        "    filtered_pitches = pitches[mask]\n",
        "    pitch_mean = np.mean(filtered_pitches)\n",
        "    pitch_range = np.max(filtered_pitches) - np.min(filtered_pitches)\n",
        "    pitch_variance = np.var(filtered_pitches)\n",
        "    pitch_features = [pitch_mean, pitch_range, pitch_variance]\n",
        "\n",
        "    # Feature 2: Spectral Centroid\n",
        "    spectral_centroids = librosa.feature.spectral_centroid(y=y, sr=sample_rate)\n",
        "    spectral_centroid_mean = np.mean(spectral_centroids)\n",
        "    spectral_centroid_range = np.max(spectral_centroids) - np.min(spectral_centroids)\n",
        "    spectral_centroid_variance = np.var(spectral_centroids)\n",
        "    spectral_centroid_features = [spectral_centroid_mean, spectral_centroid_range, spectral_centroid_variance]\n",
        "\n",
        "    # Feature 3: Zero Crossing Rate\n",
        "    zero_crossings = librosa.feature.zero_crossing_rate(y)\n",
        "    zcr_mean = np.mean(zero_crossings)\n",
        "    zcr_range = np.max(zero_crossings) - np.min(zero_crossings)\n",
        "    zcr_variance = np.var(zero_crossings)\n",
        "    zcr_features = [zcr_mean, zcr_range, zcr_variance]\n",
        "\n",
        "    # Combine all features\n",
        "    features = pitch_features + spectral_centroid_features + zcr_features\n",
        "    return np.array(features)\n",
        "\n",
        "# Load the trained Random Forest model\n",
        "with open('random_forest_model.pkl', 'rb') as file:\n",
        "    rf_model = pickle.load(file)\n",
        "\n",
        "# Load the trained CNN model\n",
        "cnn_model = load_model('cnn_model.h5')\n",
        "\n",
        "# Directory containing the new 33 labeled audio files\n",
        "new_audio_dir = os.path.join('content/audio-shorts/Aibolit_33_parts')\n",
        "\n",
        "# Extract features from the new 33 files\n",
        "new_features = []\n",
        "new_labels = []\n",
        "\n",
        "for filename in os.listdir(new_audio_dir):\n",
        "    if filename.endswith('.wav'):\n",
        "        file_path = os.path.join(new_audio_dir, filename)\n",
        "        features_matrix = extract_featuresAAA(file_path)\n",
        "\n",
        "        feature_values = features_matrix.flatten()  # Flatten the matrix to a 1D array\n",
        "\n",
        "        # Extract label from the filename\n",
        "        if 'A' in filename:\n",
        "            label = 'A'\n",
        "        elif 'B' in filename:\n",
        "            label = 'B'\n",
        "        else:\n",
        "            label = 'Unknown'  # Handle unexpected cases\n",
        "\n",
        "        # Append features and label separately\n",
        "        new_features.append(feature_values)\n",
        "        new_labels.append(label)\n",
        "\n",
        "# Convert features and labels to numpy arrays\n",
        "new_features = np.array(new_features)\n",
        "new_labels = np.array(new_labels)\n",
        "\n",
        "# Convert labels to integer encoding\n",
        "label_mapping = {'A': 0, 'B': 1, 'Unknown': 2}\n",
        "encoded_labels = np.array([label_mapping[label] for label in new_labels])\n",
        "\n",
        "# Make predictions using the Random Forest model\n",
        "rf_predictions = rf_model.predict(new_features)\n",
        "\n",
        "# Evaluate the Random Forest model's performance\n",
        "rf_accuracy = accuracy_score(encoded_labels, rf_predictions)\n",
        "rf_report = classification_report(encoded_labels, rf_predictions, zero_division=1)\n",
        "\n",
        "print(f'Random Forest Model Accuracy: {rf_accuracy}')\n",
        "print('Random Forest Classification Report:')\n",
        "print(rf_report)\n",
        "\n",
        "# Reshape features for CNN model input (assuming the CNN model expects a certain input shape)\n",
        "cnn_features = new_features.reshape((new_features.shape[0], 3, 3, 1))  # Adjusted to (batch_size, 3, 3, 1)\n",
        "\n",
        "# Make predictions using the CNN model\n",
        "cnn_predictions = cnn_model.predict(cnn_features)\n",
        "cnn_predictions = np.argmax(cnn_predictions, axis=1)  # Assuming the output is one-hot encoded\n",
        "\n",
        "# Evaluate the CNN model's performance\n",
        "cnn_accuracy = accuracy_score(encoded_labels, cnn_predictions)\n",
        "cnn_report = classification_report(encoded_labels, cnn_predictions, zero_division=1)\n",
        "\n",
        "print(f'CNN Model Accuracy: {cnn_accuracy}')\n",
        "print('CNN Classification Report:')\n",
        "print(cnn_report)\n"
      ],
      "metadata": {
        "colab": {
          "base_uri": "https://localhost:8080/"
        },
        "id": "3yyiMxYPZOWF",
        "outputId": "ac502168-08e2-460c-af8e-bdcfd235b4e0"
      },
      "execution_count": 103,
      "outputs": [
        {
          "output_type": "stream",
          "name": "stdout",
          "text": [
            "Random Forest Model Accuracy: 0.7878787878787878\n",
            "Random Forest Classification Report:\n",
            "              precision    recall  f1-score   support\n",
            "\n",
            "           0       1.00      0.00      0.00         7\n",
            "           1       0.79      1.00      0.88        26\n",
            "\n",
            "    accuracy                           0.79        33\n",
            "   macro avg       0.89      0.50      0.44        33\n",
            "weighted avg       0.83      0.79      0.69        33\n",
            "\n",
            "2/2 [==============================] - 0s 6ms/step\n",
            "CNN Model Accuracy: 0.21212121212121213\n",
            "CNN Classification Report:\n",
            "              precision    recall  f1-score   support\n",
            "\n",
            "           0       0.21      1.00      0.35         7\n",
            "           1       1.00      0.00      0.00        26\n",
            "\n",
            "    accuracy                           0.21        33\n",
            "   macro avg       0.61      0.50      0.17        33\n",
            "weighted avg       0.83      0.21      0.07        33\n",
            "\n"
          ]
        }
      ]
    },
    {
      "cell_type": "code",
      "source": [
        "import os\n",
        "import numpy as np\n",
        "from sklearn.metrics import accuracy_score, classification_report\n",
        "import pickle\n",
        "from tensorflow.keras.models import load_model\n",
        "\n",
        "# Function to extract features (you should have this function defined in your notebook)\n",
        "def extract_featuresAAA(filename):\n",
        "    # Load audio file\n",
        "    y, sample_rate = librosa.load(filename)\n",
        "\n",
        "    # Feature 1: Pitch (using librosa's piptrack)\n",
        "    pitches, magnitudes = librosa.piptrack(y=y, sr=sample_rate)\n",
        "    mask = magnitudes > np.median(magnitudes)\n",
        "    filtered_pitches = pitches[mask]\n",
        "    pitch_mean = np.mean(filtered_pitches)\n",
        "    pitch_range = np.max(filtered_pitches) - np.min(filtered_pitches)\n",
        "    pitch_variance = np.var(filtered_pitches)\n",
        "    pitch_features = [pitch_mean, pitch_range, pitch_variance]\n",
        "\n",
        "    # Feature 2: Spectral Centroid\n",
        "    spectral_centroids = librosa.feature.spectral_centroid(y=y, sr=sample_rate)\n",
        "    spectral_centroid_mean = np.mean(spectral_centroids)\n",
        "    spectral_centroid_range = np.max(spectral_centroids) - np.min(spectral_centroids)\n",
        "    spectral_centroid_variance = np.var(spectral_centroids)\n",
        "    spectral_centroid_features = [spectral_centroid_mean, spectral_centroid_range, spectral_centroid_variance]\n",
        "\n",
        "    # Feature 3: Zero Crossing Rate\n",
        "    zero_crossings = librosa.feature.zero_crossing_rate(y)\n",
        "    zcr_mean = np.mean(zero_crossings)\n",
        "    zcr_range = np.max(zero_crossings) - np.min(zero_crossings)\n",
        "    zcr_variance = np.var(zero_crossings)\n",
        "    zcr_features = [zcr_mean, zcr_range, zcr_variance]\n",
        "\n",
        "    # Combine all features\n",
        "    features = pitch_features + spectral_centroid_features + zcr_features\n",
        "    return np.array(features)\n",
        "\n",
        "# Load the trained Random Forest model\n",
        "with open('random_forest_model.pkl', 'rb') as file:\n",
        "    rf_model = pickle.load(file)\n",
        "\n",
        "# Load the trained CNN model\n",
        "cnn_model = load_model('cnn_model.h5')\n",
        "\n",
        "# Directory containing the new 33 labeled audio files\n",
        "new_audio_dir = os.path.join('content/audio-shorts/Aibolit_33_parts')\n",
        "\n",
        "# Extract features from the new 33 files\n",
        "new_features = []\n",
        "new_labels = []\n",
        "filenames = []\n",
        "\n",
        "for filename in os.listdir(new_audio_dir):\n",
        "    if filename.endswith('.wav'):\n",
        "        file_path = os.path.join(new_audio_dir, filename)\n",
        "        features_matrix = extract_featuresAAA(file_path)\n",
        "\n",
        "        feature_values = features_matrix.flatten()  # Flatten the matrix to a 1D array\n",
        "\n",
        "        # Extract label from the filename\n",
        "        if 'A' in filename:\n",
        "            label = 'A'\n",
        "        elif 'B' in filename:\n",
        "            label = 'B'\n",
        "        else:\n",
        "            label = 'Unknown'  # Handle unexpected cases\n",
        "\n",
        "        # Append features, label, and filename\n",
        "        new_features.append(feature_values)\n",
        "        new_labels.append(label)\n",
        "        filenames.append(filename)\n",
        "\n",
        "# Convert features and labels to numpy arrays\n",
        "new_features = np.array(new_features)\n",
        "new_labels = np.array(new_labels)\n",
        "\n",
        "# Convert labels to integer encoding\n",
        "label_mapping = {'A': 0, 'B': 1, 'Unknown': 2}\n",
        "encoded_labels = np.array([label_mapping[label] for label in new_labels])\n",
        "\n",
        "# Make predictions using the Random Forest model\n",
        "rf_predictions = rf_model.predict(new_features)\n",
        "\n",
        "# Evaluate the Random Forest model's performance\n",
        "rf_accuracy = accuracy_score(encoded_labels, rf_predictions)\n",
        "rf_report = classification_report(encoded_labels, rf_predictions, zero_division=1)\n",
        "\n",
        "print(f'Random Forest Model Accuracy: {rf_accuracy}')\n",
        "print('Random Forest Classification Report:')\n",
        "print(rf_report)\n",
        "\n",
        "# Print filenames and corresponding predictions for Random Forest\n",
        "print(\"Random Forest Predictions:\")\n",
        "for filename, true_label, pred_label in zip(filenames, new_labels, rf_predictions):\n",
        "    print(f\"{filename} - True: {true_label}, Predicted: {list(label_mapping.keys())[list(label_mapping.values()).index(pred_label)]}\")\n",
        "\n",
        "# Reshape features for CNN model input (assuming the CNN model expects a certain input shape)\n",
        "cnn_features = new_features.reshape((new_features.shape[0], 3, 3, 1))  # Adjusted to (batch_size, 3, 3, 1)\n",
        "\n",
        "# Make predictions using the CNN model\n",
        "cnn_predictions = cnn_model.predict(cnn_features)\n",
        "cnn_predictions = np.argmax(cnn_predictions, axis=1)  # Assuming the output is one-hot encoded\n",
        "\n",
        "# Evaluate the CNN model's performance\n",
        "cnn_accuracy = accuracy_score(encoded_labels, cnn_predictions)\n",
        "cnn_report = classification_report(encoded_labels, cnn_predictions, zero_division=1)\n",
        "\n",
        "print(f'CNN Model Accuracy: {cnn_accuracy}')\n",
        "print('CNN Classification Report:')\n",
        "print(cnn_report)\n",
        "\n",
        "# Print filenames and corresponding predictions for CNN\n",
        "print(\"CNN Predictions:\")\n",
        "for filename, true_label, pred_label in zip(filenames, new_labels, cnn_predictions):\n",
        "    print(f\"{filename} - True: {true_label}, Predicted: {list(label_mapping.keys())[list(label_mapping.values()).index(pred_label)]}\")\n"
      ],
      "metadata": {
        "colab": {
          "base_uri": "https://localhost:8080/"
        },
        "id": "Dd9dbmATa1hM",
        "outputId": "ce9592e1-c342-4648-a495-f314b245aaff"
      },
      "execution_count": 104,
      "outputs": [
        {
          "output_type": "stream",
          "name": "stdout",
          "text": [
            "Random Forest Model Accuracy: 0.7878787878787878\n",
            "Random Forest Classification Report:\n",
            "              precision    recall  f1-score   support\n",
            "\n",
            "           0       1.00      0.00      0.00         7\n",
            "           1       0.79      1.00      0.88        26\n",
            "\n",
            "    accuracy                           0.79        33\n",
            "   macro avg       0.89      0.50      0.44        33\n",
            "weighted avg       0.83      0.79      0.69        33\n",
            "\n",
            "Random Forest Predictions:\n",
            "aibolit_23_A.wav - True: A, Predicted: B\n",
            "aibolit_08_B.wav - True: B, Predicted: B\n",
            "aibolit_01_B.wav - True: B, Predicted: B\n",
            "aibolit_27_A.wav - True: A, Predicted: B\n",
            "aibolit_19_B.wav - True: B, Predicted: B\n",
            "aibolit_22_B.wav - True: B, Predicted: B\n",
            "aibolit_28_B.wav - True: B, Predicted: B\n",
            "aibolit_13_B.wav - True: B, Predicted: B\n",
            "aibolit_31_B.wav - True: B, Predicted: B\n",
            "aibolit_24_B.wav - True: B, Predicted: B\n",
            "aibolit_09_A.wav - True: A, Predicted: B\n",
            "aibolit_32_B.wav - True: B, Predicted: B\n",
            "aibolit_21_B.wav - True: B, Predicted: B\n",
            "aibolit_06_B.wav - True: B, Predicted: B\n",
            "aibolit_16_B.wav - True: B, Predicted: B\n",
            "aibolit_11_B.wav - True: B, Predicted: B\n",
            "aibolit_29_B.wav - True: B, Predicted: B\n",
            "aibolit_12_B.wav - True: B, Predicted: B\n",
            "aibolit_30_B.wav - True: B, Predicted: B\n",
            "aibolit_07_A.wav - True: A, Predicted: B\n",
            "aibolit_02_B.wav - True: B, Predicted: B\n",
            "aibolit_05_B.wav - True: B, Predicted: B\n",
            "aibolit_14_B.wav - True: B, Predicted: B\n",
            "aibolit_15_A.wav - True: A, Predicted: B\n",
            "aibolit_18_A.wav - True: A, Predicted: B\n",
            "aibolit_04_B.wav - True: B, Predicted: B\n",
            "aibolit_03_B.wav - True: B, Predicted: B\n",
            "aibolit_25_A.wav - True: A, Predicted: B\n",
            "aibolit_33_B.wav - True: B, Predicted: B\n",
            "aibolit_17_B.wav - True: B, Predicted: B\n",
            "aibolit_10_B.wav - True: B, Predicted: B\n",
            "aibolit_20_B.wav - True: B, Predicted: B\n",
            "aibolit_26_B.wav - True: B, Predicted: B\n",
            "2/2 [==============================] - 0s 8ms/step\n",
            "CNN Model Accuracy: 0.21212121212121213\n",
            "CNN Classification Report:\n",
            "              precision    recall  f1-score   support\n",
            "\n",
            "           0       0.21      1.00      0.35         7\n",
            "           1       1.00      0.00      0.00        26\n",
            "\n",
            "    accuracy                           0.21        33\n",
            "   macro avg       0.61      0.50      0.17        33\n",
            "weighted avg       0.83      0.21      0.07        33\n",
            "\n",
            "CNN Predictions:\n",
            "aibolit_23_A.wav - True: A, Predicted: A\n",
            "aibolit_08_B.wav - True: B, Predicted: A\n",
            "aibolit_01_B.wav - True: B, Predicted: A\n",
            "aibolit_27_A.wav - True: A, Predicted: A\n",
            "aibolit_19_B.wav - True: B, Predicted: A\n",
            "aibolit_22_B.wav - True: B, Predicted: A\n",
            "aibolit_28_B.wav - True: B, Predicted: A\n",
            "aibolit_13_B.wav - True: B, Predicted: A\n",
            "aibolit_31_B.wav - True: B, Predicted: A\n",
            "aibolit_24_B.wav - True: B, Predicted: A\n",
            "aibolit_09_A.wav - True: A, Predicted: A\n",
            "aibolit_32_B.wav - True: B, Predicted: A\n",
            "aibolit_21_B.wav - True: B, Predicted: A\n",
            "aibolit_06_B.wav - True: B, Predicted: A\n",
            "aibolit_16_B.wav - True: B, Predicted: A\n",
            "aibolit_11_B.wav - True: B, Predicted: A\n",
            "aibolit_29_B.wav - True: B, Predicted: A\n",
            "aibolit_12_B.wav - True: B, Predicted: A\n",
            "aibolit_30_B.wav - True: B, Predicted: A\n",
            "aibolit_07_A.wav - True: A, Predicted: A\n",
            "aibolit_02_B.wav - True: B, Predicted: A\n",
            "aibolit_05_B.wav - True: B, Predicted: A\n",
            "aibolit_14_B.wav - True: B, Predicted: A\n",
            "aibolit_15_A.wav - True: A, Predicted: A\n",
            "aibolit_18_A.wav - True: A, Predicted: A\n",
            "aibolit_04_B.wav - True: B, Predicted: A\n",
            "aibolit_03_B.wav - True: B, Predicted: A\n",
            "aibolit_25_A.wav - True: A, Predicted: A\n",
            "aibolit_33_B.wav - True: B, Predicted: A\n",
            "aibolit_17_B.wav - True: B, Predicted: A\n",
            "aibolit_10_B.wav - True: B, Predicted: A\n",
            "aibolit_20_B.wav - True: B, Predicted: A\n",
            "aibolit_26_B.wav - True: B, Predicted: A\n"
          ]
        }
      ]
    }
  ]
}